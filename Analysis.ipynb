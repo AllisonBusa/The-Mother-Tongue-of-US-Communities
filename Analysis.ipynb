{
 "cells": [
  {
   "cell_type": "markdown",
   "metadata": {},
   "source": [
    "## Importing Data and Necessary Packages"
   ]
  },
  {
   "cell_type": "code",
   "execution_count": 1,
   "metadata": {},
   "outputs": [],
   "source": [
    "%matplotlib inline\n",
    "\n",
    "import pandas as pd\n",
    "import numpy as np\n",
    "\n",
    "import matplotlib.pyplot as plt\n",
    "import seaborn as sns\n",
    "sns.set(style='white')\n",
    "\n",
    "from thinkstats2 import Pmf, Cdf\n",
    "\n",
    "import thinkstats2\n",
    "import thinkplot"
   ]
  },
  {
   "cell_type": "code",
   "execution_count": 2,
   "metadata": {},
   "outputs": [],
   "source": [
    "#Creating a python array of state abbreviations\n",
    "#Taken from https://gist.github.com/JeffPaine/3083347\n",
    "states = [\"US\",\"AL\", \"AK\", \"AZ\", \"AR\", \"CA\", \"CO\", \"CT\", \"DC\", \"DE\", \"FL\", \"GA\", \n",
    "          \"HI\", \"ID\", \"IL\", \"IN\", \"IA\", \"KS\", \"KY\", \"LA\", \"ME\", \"MD\", \n",
    "          \"MA\", \"MI\", \"MN\", \"MS\", \"MO\", \"MT\", \"NE\", \"NV\", \"NH\", \"NJ\", \n",
    "          \"NM\", \"NY\", \"NC\", \"ND\", \"OH\", \"OK\", \"OR\", \"PA\", \"RI\", \"SC\", \n",
    "\"SD\", \"TN\", \"TX\", \"UT\", \"VT\", \"VA\", \"WA\", \"WV\", \"WI\", \"WY\"]"
   ]
  },
  {
   "cell_type": "code",
   "execution_count": 13,
   "metadata": {},
   "outputs": [
    {
     "name": "stdout",
     "output_type": "stream",
     "text": [
      "{'MI': None, 'WA': None, 'ID': None, 'GA': None, 'TX': None, 'DC': None, 'ND': None, 'WY': None, 'MS': None, 'WV': None, 'NV': None, 'MT': None, 'WI': None, 'SC': None, 'UT': None, 'ME': None, 'SD': None, 'OK': None, 'NE': None, 'MO': None, 'LA': None, 'FL': None, 'NH': None, 'HI': None, 'NM': None, 'TN': None, 'AR': None, 'MA': None, 'AL': None, 'OH': None, 'KY': None, 'CT': None, 'MN': None, 'IL': None, 'IN': None, 'AZ': None, 'VA': None, 'OR': None, 'CO': None, 'AK': None, 'IA': None, 'DE': None, 'NC': None, 'PA': None, 'CA': None, 'NY': None, 'NJ': None, 'KS': None, 'US': None, 'MD': None, 'VT': None, 'RI': None}\n"
     ]
    }
   ],
   "source": [
    "#Create a dictionary object that has states as keys\n",
    "totallanguage_dict = dict.fromkeys(states)\n",
    "print(totallanguage_dict) "
   ]
  },
  {
   "cell_type": "code",
   "execution_count": 14,
   "metadata": {},
   "outputs": [],
   "source": [
    "for state in states:\n",
    "    df = pd.read_excel(\"/home/alli/The-Mother-Tongue-of-US-Communities/raw_data/DetailedLanguageSpoken_State_20062008.xls\",state,skiprows=[0,1,2]).dropna()\n",
    "    totallanguage_dict[state] = df.loc[6:7,\"Number of speakers\"]\n"
   ]
  },
  {
   "cell_type": "code",
   "execution_count": 15,
   "metadata": {},
   "outputs": [
    {
     "name": "stdout",
     "output_type": "stream",
     "text": [
      "6    14309\n",
      "7     2039\n",
      "Name: Number of speakers, dtype: object\n"
     ]
    }
   ],
   "source": [
    "print( totallanguage_dict[\"AK\"] )"
   ]
  },
  {
   "cell_type": "markdown",
   "metadata": {
    "collapsed": true
   },
   "source": [
    "First we can compare how many people speak a different language than how many people only speak English."
   ]
  },
  {
   "cell_type": "code",
   "execution_count": null,
   "metadata": {},
   "outputs": [],
   "source": []
  },
  {
   "cell_type": "markdown",
   "metadata": {
    "collapsed": true
   },
   "source": [
    "However, how diverse is this actually? We stipulate that if all the different languages spoken in a community are European languages, that changes the perception of how diverse the community is. "
   ]
  },
  {
   "cell_type": "code",
   "execution_count": null,
   "metadata": {
    "collapsed": true
   },
   "outputs": [],
   "source": []
  }
 ],
 "metadata": {
  "kernelspec": {
   "display_name": "Python 3",
   "language": "python",
   "name": "python3"
  },
  "language_info": {
   "codemirror_mode": {
    "name": "ipython",
    "version": 3
   },
   "file_extension": ".py",
   "mimetype": "text/x-python",
   "name": "python",
   "nbconvert_exporter": "python",
   "pygments_lexer": "ipython3",
   "version": "3.5.2"
  }
 },
 "nbformat": 4,
 "nbformat_minor": 2
}
