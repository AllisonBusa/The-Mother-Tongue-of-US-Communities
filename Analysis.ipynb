{
 "cells": [
  {
   "cell_type": "markdown",
   "metadata": {},
   "source": [
    "## Importing Data and Necessary Packages"
   ]
  },
  {
   "cell_type": "code",
   "execution_count": 1,
   "metadata": {},
   "outputs": [],
   "source": [
    "%matplotlib inline\n",
    "\n",
    "import pandas as pd\n",
    "import numpy as np\n",
    "\n",
    "import matplotlib.pyplot as plt\n",
    "import seaborn as sns\n",
    "sns.set(style='white')\n",
    "\n",
    "from thinkstats2 import Pmf, Cdf\n",
    "\n",
    "import thinkstats2\n",
    "import thinkplot"
   ]
  },
  {
   "cell_type": "code",
   "execution_count": 2,
   "metadata": {},
   "outputs": [],
   "source": [
    "#Creating a python array of state abbreviations\n",
    "#Taken from https://gist.github.com/JeffPaine/3083347\n",
    "states = [\"US\",\"AL\", \"AK\", \"AZ\", \"AR\", \"CA\", \"CO\", \"CT\", \"DC\", \"DE\", \"FL\", \"GA\", \n",
    "          \"HI\", \"ID\", \"IL\", \"IN\", \"IA\", \"KS\", \"KY\", \"LA\", \"ME\", \"MD\", \n",
    "          \"MA\", \"MI\", \"MN\", \"MS\", \"MO\", \"MT\", \"NE\", \"NV\", \"NH\", \"NJ\", \n",
    "          \"NM\", \"NY\", \"NC\", \"ND\", \"OH\", \"OK\", \"OR\", \"PA\", \"RI\", \"SC\", \n",
    "\"SD\", \"TN\", \"TX\", \"UT\", \"VT\", \"VA\", \"WA\", \"WV\", \"WI\", \"WY\"]\n",
    "\n",
    "\n",
    "statesfull=['Alabama','Alaska','Arizona','Arkansas','California','Colorado','Connecticut',\n",
    "            'Delaware','District of Columbia','Florida','Georgia',\n",
    "            'Hawaii','Idaho','Illinois','Indiana','Iowa','Kansas','Kentucky','Louisiana','Maine',\n",
    "            'Maryland','Massachusetts','Michigan','Minnesota','Mississippi','Missouri','Montana','Nebraska',\n",
    "            'Nevada','New Hampshire','New Jersey','New Mexico','New York','North Carolina','North Dakota',\n",
    "            'Ohio','Oklahoma','Oregon','Pennsylvania','Puerto Rico',\n",
    "            'Rhode Island','South Carolina','South Dakota','Tennessee','Texas','Utah','Vermont',\n",
    "            'Virginia','Washington','West Virginia','Wisconsin','Wyoming']"
   ]
  },
  {
   "cell_type": "code",
   "execution_count": 18,
   "metadata": {},
   "outputs": [],
   "source": [
    "def createDataFrame(emptySeries, arrayNames, textfileName, index, Column, skiprows=[0,1,2]):\n",
    "    \"\"\"\n",
    "    Makes a dataframe with specific language information from excel file\n",
    "    \"\"\"\n",
    "    i=0\n",
    "    for area in arrayNames:\n",
    "\n",
    "        df = pd.read_excel(textfileName, area, skiprows=skiprows).dropna()\n",
    "\n",
    "        #dictionary[area] = df.loc[dictionaryindex1:dictionaryindex1,Column]\n",
    "        emptySeries.set_value(i,df.loc[index, Column])\n",
    "        i+=1\n"
   ]
  },
  {
   "cell_type": "code",
   "execution_count": 4,
   "metadata": {},
   "outputs": [],
   "source": [
    "def plotFigure(english_speakers, other_speakers):\n",
    "    \"\"\"\n",
    "    Takes the number of only English speakers and number of speakers of other languages, per Census file. \n",
    "    Returns two graphs with number of only English speakers and number of speakers of \n",
    "    other languages as normalized percentages of total population of those states. \n",
    "    \"\"\"\n",
    "    english_speakers_normalized = english_speakers/(english_speakers+other_speakers)\n",
    "    other_speakers_normalized = other_speakers/(english_speakers+other_speakers)\n",
    "\n",
    "    plt.figure(figsize=(20, 3))\n",
    "    for i in range(1,51): \n",
    "        plt.bar(i, english_speakers_normalized[i])\n",
    "        plt.autoscale(enable=True)\n",
    "        plt.xticks(range(1,51), states[1:51])\n",
    "        plt.title(\"Normalized Fraction of Solely English Speakers\")\n",
    "        plt.xlabel(\"State\")\n",
    "        plt.ylabel(\"Fraction of Solely English Speakers\")\n",
    "\n",
    "    plt.figure(figsize=(20, 3))\n",
    "    for i in range(1,51):\n",
    "        plt.bar(i, other_speakers_normalized[i])\n",
    "        plt.autoscale(enable=True)\n",
    "        plt.ylim([0.0,1.0])\n",
    "        plt.xticks(range(1,51), states[1:51])\n",
    "        plt.title(\"Normalized Percentage of Other Language Speakers\")\n",
    "        plt.xlabel(\"State\")\n",
    "        plt.ylabel(\"Fraction of Other Language Speakers\")"
   ]
  },
  {
   "cell_type": "markdown",
   "metadata": {},
   "source": [
    "# Bar Graphs of Other Language Speakers and English Language Speakers in Every State over Time"
   ]
  },
  {
   "cell_type": "code",
   "execution_count": null,
   "metadata": {},
   "outputs": [],
   "source": [
    "## This isn't working yet\n",
    "\n",
    "#English and Non-English Speakers for 2000, Creating dictionary and arrays\n",
    "totallanguage_dict_00 = dict.fromkeys(states)\n",
    "english2000=pd.Series()\n",
    "other2000=pd.Series()\n",
    " \n",
    "\n",
    "createDataFrame(english2000, states, \"/home/jobanner/The-Mother-Tongue-of-US-Communities/raw_data/LanguageSpokenatHome_2000.xlsx\", 0, totallanguage_dict_00,\"Number of speakers\")\n",
    "    \n",
    "createDataFrame(other2000, states, \"/home/jobanner/The-Mother-Tongue-of-US-Communities/raw_data/LanguageSpokenatHome_2000.xlsx\", 1, totallanguage_dict_00,\"Number of speakers\")"
   ]
  },
  {
   "cell_type": "code",
   "execution_count": 19,
   "metadata": {},
   "outputs": [
    {
     "name": "stderr",
     "output_type": "stream",
     "text": [
      "/home/alli/.local/lib/python3.5/site-packages/ipykernel_launcher.py:11: FutureWarning: set_value is deprecated and will be removed in a future release. Please use .at[] or .iat[] accessors instead\n",
      "  # This is added back by InteractiveShellApp.init_path()\n"
     ]
    }
   ],
   "source": [
    "#English and Non-English Speakers for 2006, Creating dictionary and arrays\n",
    "#totallanguage_dict_06 = dict.fromkeys(states)\n",
    "english2006=pd.Series()\n",
    "other2006=pd.Series()\n",
    "txtfile2006 = \"/home/alli/The-Mother-Tongue-of-US-Communities/raw_data/DetailedLanguageSpoken_State_20062008.xls\"\n",
    "\n",
    "createDataFrame(english2006, states, txtfile2006, 1,\"Number of speakers\", skiprows=[0,1,2])\n",
    "    \n",
    "createDataFrame(other2006, states, txtfile2006, 2,\"Number of speakers\", skiprows=[0,1,2])"
   ]
  },
  {
   "cell_type": "code",
   "execution_count": 27,
   "metadata": {},
   "outputs": [
    {
     "name": "stderr",
     "output_type": "stream",
     "text": [
      "/home/alli/.local/lib/python3.5/site-packages/ipykernel_launcher.py:11: FutureWarning: set_value is deprecated and will be removed in a future release. Please use .at[] or .iat[] accessors instead\n",
      "  # This is added back by InteractiveShellApp.init_path()\n"
     ]
    }
   ],
   "source": [
    "#English and Non-English Speakers for 2009, Creating dictionary and arrays\n",
    "#totallanguage_dict_09 = dict.fromkeys(statesfull)\n",
    "english2009=pd.Series()\n",
    "other2009=pd.Series()\n",
    "txtfile2009 =  \"/home/alli/The-Mother-Tongue-of-US-Communities/raw_data/LanguageSpokenatHome_State_2009-2013.xls\"\n",
    "\n",
    "#things that are different about this file : skiprows is [0,1,2,3], column is \"NumberofSpeakers1\" and states is statesfull\n",
    "createDataFrame(english2009, statesfull, txtfile2009, 1,\"Number of speakers1\", skiprows=[0,1,2,3])\n",
    "    \n",
    "createDataFrame(other2009, statesfull, txtfile2009, 2, \"Number of speakers1\", skiprows=[0,1,2,3])"
   ]
  },
  {
   "cell_type": "code",
   "execution_count": 33,
   "metadata": {},
   "outputs": [
    {
     "data": {
      "text/plain": [
       "38"
      ]
     },
     "execution_count": 33,
     "metadata": {},
     "output_type": "execute_result"
    }
   ],
   "source": [
    "statesfull.index('Pennsylvania')"
   ]
  },
  {
   "cell_type": "code",
   "execution_count": 34,
   "metadata": {},
   "outputs": [
    {
     "data": {
      "text/plain": [
       "10769224"
      ]
     },
     "execution_count": 34,
     "metadata": {},
     "output_type": "execute_result"
    }
   ],
   "source": [
    "english2009[38]"
   ]
  },
  {
   "cell_type": "code",
   "execution_count": 35,
   "metadata": {},
   "outputs": [
    {
     "data": {
      "text/plain": [
       "1239179"
      ]
     },
     "execution_count": 35,
     "metadata": {},
     "output_type": "execute_result"
    }
   ],
   "source": [
    "other2009[38]"
   ]
  },
  {
   "cell_type": "code",
   "execution_count": null,
   "metadata": {},
   "outputs": [],
   "source": [
    "##2000 Import Trial \n",
    "i=0\n",
    "j=0\n",
    "com=0\n",
    "arguement= False\n",
    "for state in states:\n",
    "    df = pd.read_excel(\"/home/jobanner/The-Mother-Tongue-of-US-Communities/raw_data/LanguageSpokenatHome_2000.xlsx\",state,skiprows=[0,1,2,3]).dropna()\n",
    "    if(df[\"Area Name (State or County)\"][j].find(\"County\")==-1):\n",
    "        com+=df.loc[j,\"Number of speakers\"]\n",
    "        j+=1\n",
    "    else:\n",
    "        other2000.set_value(i,com)\n",
    "        com=0\n",
    "        i+=1\n",
    "        continue;"
   ]
  },
  {
   "cell_type": "code",
   "execution_count": null,
   "metadata": {},
   "outputs": [],
   "source": [
    "i=0\n",
    "j=0\n",
    "com=0\n",
    "arguement= False\n",
    "for state in states:\n",
    "    df = pd.read_excel(\"/home/jobanner/The-Mother-Tongue-of-US-Communities/raw_data/LanguageSpokenatHome_2000.xlsx\",state,skiprows=[0,1,2,3]).dropna()\n",
    "    english2000.set_value(i,df.loc[0,\"Number of speakers\"])\n",
    "    i+=1\n",
    "    \n",
    "createDataFrame(english2000, states, \"/home/jobanner/The-Mother-Tongue-of-US-Communities/raw_data/LanguageSpokenatHome_2000.xlsx\", 0, totallanguage_dict_00,\"Number of speakers\"):"
   ]
  },
  {
   "cell_type": "markdown",
   "metadata": {},
   "source": [
    "Plotting the Bar Graphs of the Different Time Periods"
   ]
  },
  {
   "cell_type": "code",
   "execution_count": 23,
   "metadata": {},
   "outputs": [
    {
     "data": {
      "image/png": "[encoded data removed]",
      "text/plain": [
       "<Figure size 1440x216 with 1 Axes>"
      ]
     },
     "metadata": {
      "needs_background": "light"
     },
     "output_type": "display_data"
    },
    {
     "data": {
      "image/png": "[encoded data removed]",
      "text/plain": [
       "<Figure size 1440x216 with 1 Axes>"
      ]
     },
     "metadata": {
      "needs_background": "light"
     },
     "output_type": "display_data"
    }
   ],
   "source": [
    "plotFigure(english2006, other2006 )"
   ]
  },
  {
   "cell_type": "markdown",
   "metadata": {},
   "source": [
    "These graphs show on top the portion of the population for each state that only speaks English, and on the bottom the portion of the population for each state that speaks a language other than English. \n",
    "\n",
    "We see that a large portion of the population of all U.S. states only speak English. "
   ]
  },
  {
   "cell_type": "code",
   "execution_count": null,
   "metadata": {},
   "outputs": [],
   "source": [
    "index = other_speakers_normalized > 0.2\n",
    "bleh=[i for i, x in enumerate(index) if x]\n",
    "for i in bleh:\n",
    "    print(states[i])"
   ]
  },
  {
   "cell_type": "code",
   "execution_count": null,
   "metadata": {},
   "outputs": [],
   "source": [
    "print(str(states[other_speakers_normalized.idxmin()]))\n",
    "print(str(other_speakers_normalized.min()))"
   ]
  },
  {
   "cell_type": "code",
   "execution_count": null,
   "metadata": {},
   "outputs": [],
   "source": [
    "index = other_speakers_normalized < 0.05\n",
    "bleh=[i for i, x in enumerate(index) if x]\n",
    "for i in bleh:\n",
    "    print(states[i])"
   ]
  },
  {
   "cell_type": "code",
   "execution_count": null,
   "metadata": {},
   "outputs": [],
   "source": [
    "print(\"State with Most Only English Speakers :\"+str(states[english_speakers_normalized.idxmax()]))\n",
    "\n",
    "print(\"State with Most Speakers of Other Languages :\"+str(states[other_speakers_normalized.idxmax()]))\n"
   ]
  },
  {
   "cell_type": "code",
   "execution_count": 28,
   "metadata": {},
   "outputs": [
    {
     "data": {
      "image/png": "[encoded data removed]",
      "text/plain": [
       "<Figure size 1440x216 with 1 Axes>"
      ]
     },
     "metadata": {
      "needs_background": "light"
     },
     "output_type": "display_data"
    },
    {
     "data": {
      "image/png": "[encoded data removed]",
      "text/plain": [
       "<Figure size 1440x216 with 1 Axes>"
      ]
     },
     "metadata": {
      "needs_background": "light"
     },
     "output_type": "display_data"
    }
   ],
   "source": [
    "plotFigure(english2009, other2009 )"
   ]
  },
  {
   "cell_type": "code",
   "execution_count": null,
   "metadata": {},
   "outputs": [],
   "source": []
  },
  {
   "cell_type": "markdown",
   "metadata": {},
   "source": [
    "# Looking at Counties of Potential Interesting Areas\n",
    "\n",
    "Next we will look at counties of states which had some of the most extreme ratios of speakers of only english to speakers of other languages. "
   ]
  },
  {
   "cell_type": "code",
   "execution_count": 86,
   "metadata": {},
   "outputs": [],
   "source": [
    "def createCountyDataFrame(emptySeries, emptySeries2, arrayNames, textfileName, index):\n",
    "    \"\"\"\n",
    "    Makes a dataframe with specific language information from excel file\n",
    "    \"\"\"\n",
    "    i=0\n",
    "    x1 = pd.ExcelFile(textfileName)\n",
    "    sheetnames = x1.sheet_names\n",
    "    for sheet in sheetnames:\n",
    "        if any(x in sheet for x in stateswerelookingat):\n",
    "            df = pd.read_excel(textfileName,sheet, skiprows=[0,1,2,3]).dropna()\n",
    "            #dictionary[area] = df.loc[1:2,\"Number of speakers\"]\n",
    "            emptySeries.set_value(i,df[\"Number of speakers1\"][index])\n",
    "            emptySeries2.set_value(i, sheet)\n",
    "            i+=1"
   ]
  },
  {
   "cell_type": "code",
   "execution_count": 87,
   "metadata": {},
   "outputs": [
    {
     "name": "stderr",
     "output_type": "stream",
     "text": [
      "/home/alli/.local/lib/python3.5/site-packages/ipykernel_launcher.py:12: FutureWarning: set_value is deprecated and will be removed in a future release. Please use .at[] or .iat[] accessors instead\n",
      "  if sys.path[0] == '':\n",
      "/home/alli/.local/lib/python3.5/site-packages/ipykernel_launcher.py:13: FutureWarning: set_value is deprecated and will be removed in a future release. Please use .at[] or .iat[] accessors instead\n",
      "  del sys.path[0]\n"
     ]
    }
   ],
   "source": [
    "stateswerelookingat = [\"AZ\", \"CA\", \"HI\", \"WV\"]\n",
    "stateswerelookingatfull = [\"Arizona\", \"California\", \"Hawaii\"]\n",
    "county = pd.Series()\n",
    "otherspeakers_counties = pd.Series()\n",
    "txtcounties2009 = \"/home/alli/The-Mother-Tongue-of-US-Communities/raw_data/LanguageSpokenatHome_County_2009-2013.xls\"\n",
    "createCountyDataFrame(otherspeakers_counties, county,stateswerelookingat,txtcounties2009 , 1)"
   ]
  },
  {
   "cell_type": "code",
   "execution_count": 88,
   "metadata": {},
   "outputs": [],
   "source": [
    "\n",
    "otherspeakers2009 = pd.DataFrame(dict(county = county, otherspeakers_counties = otherspeakers_counties)).reset_index()"
   ]
  },
  {
   "cell_type": "code",
   "execution_count": 89,
   "metadata": {},
   "outputs": [
    {
     "data": {
      "text/html": [
       "<div>\n",
       "<style scoped>\n",
       "    .dataframe tbody tr th:only-of-type {\n",
       "        vertical-align: middle;\n",
       "    }\n",
       "\n",
       "    .dataframe tbody tr th {\n",
       "        vertical-align: top;\n",
       "    }\n",
       "\n",
       "    .dataframe thead th {\n",
       "        text-align: right;\n",
       "    }\n",
       "</style>\n",
       "<table border=\"1\" class=\"dataframe\">\n",
       "  <thead>\n",
       "    <tr style=\"text-align: right;\">\n",
       "      <th></th>\n",
       "      <th>index</th>\n",
       "      <th>county</th>\n",
       "      <th>otherspeakers_counties</th>\n",
       "    </tr>\n",
       "  </thead>\n",
       "  <tbody>\n",
       "    <tr>\n",
       "      <th>0</th>\n",
       "      <td>0</td>\n",
       "      <td>Maricopa County, AZ</td>\n",
       "      <td>2661566</td>\n",
       "    </tr>\n",
       "    <tr>\n",
       "      <th>1</th>\n",
       "      <td>1</td>\n",
       "      <td>Navajo County, AZ</td>\n",
       "      <td>62532</td>\n",
       "    </tr>\n",
       "    <tr>\n",
       "      <th>2</th>\n",
       "      <td>2</td>\n",
       "      <td>Pima County, AZ</td>\n",
       "      <td>661590</td>\n",
       "    </tr>\n",
       "    <tr>\n",
       "      <th>3</th>\n",
       "      <td>3</td>\n",
       "      <td>Alameda County, CA</td>\n",
       "      <td>817782</td>\n",
       "    </tr>\n",
       "    <tr>\n",
       "      <th>4</th>\n",
       "      <td>4</td>\n",
       "      <td>Contra Costa County, CA</td>\n",
       "      <td>666701</td>\n",
       "    </tr>\n",
       "    <tr>\n",
       "      <th>5</th>\n",
       "      <td>5</td>\n",
       "      <td>Fresno County, CA</td>\n",
       "      <td>484636</td>\n",
       "    </tr>\n",
       "    <tr>\n",
       "      <th>6</th>\n",
       "      <td>6</td>\n",
       "      <td>Kern County, CA</td>\n",
       "      <td>448868</td>\n",
       "    </tr>\n",
       "    <tr>\n",
       "      <th>7</th>\n",
       "      <td>7</td>\n",
       "      <td>Los Angeles County, CA</td>\n",
       "      <td>3991721</td>\n",
       "    </tr>\n",
       "    <tr>\n",
       "      <th>8</th>\n",
       "      <td>8</td>\n",
       "      <td>Monterey County, CA</td>\n",
       "      <td>183807</td>\n",
       "    </tr>\n",
       "    <tr>\n",
       "      <th>9</th>\n",
       "      <td>9</td>\n",
       "      <td>Orange County, CA</td>\n",
       "      <td>1558350</td>\n",
       "    </tr>\n",
       "    <tr>\n",
       "      <th>10</th>\n",
       "      <td>10</td>\n",
       "      <td>Placer County, CA</td>\n",
       "      <td>285025</td>\n",
       "    </tr>\n",
       "    <tr>\n",
       "      <th>11</th>\n",
       "      <td>11</td>\n",
       "      <td>Riverside County, CA</td>\n",
       "      <td>1243234</td>\n",
       "    </tr>\n",
       "    <tr>\n",
       "      <th>12</th>\n",
       "      <td>12</td>\n",
       "      <td>Sacramento County, CA</td>\n",
       "      <td>918792</td>\n",
       "    </tr>\n",
       "    <tr>\n",
       "      <th>13</th>\n",
       "      <td>13</td>\n",
       "      <td>San Bernardino County, CA</td>\n",
       "      <td>1119072</td>\n",
       "    </tr>\n",
       "    <tr>\n",
       "      <th>14</th>\n",
       "      <td>14</td>\n",
       "      <td>San Diego County, CA</td>\n",
       "      <td>1835381</td>\n",
       "    </tr>\n",
       "    <tr>\n",
       "      <th>15</th>\n",
       "      <td>15</td>\n",
       "      <td>San Francisco County, CA</td>\n",
       "      <td>429739</td>\n",
       "    </tr>\n",
       "    <tr>\n",
       "      <th>16</th>\n",
       "      <td>16</td>\n",
       "      <td>San Joaquin County, CA</td>\n",
       "      <td>384305</td>\n",
       "    </tr>\n",
       "    <tr>\n",
       "      <th>17</th>\n",
       "      <td>17</td>\n",
       "      <td>San Mateo County, CA</td>\n",
       "      <td>369102</td>\n",
       "    </tr>\n",
       "    <tr>\n",
       "      <th>18</th>\n",
       "      <td>18</td>\n",
       "      <td>Santa Barbara County, CA</td>\n",
       "      <td>238937</td>\n",
       "    </tr>\n",
       "    <tr>\n",
       "      <th>19</th>\n",
       "      <td>19</td>\n",
       "      <td>Santa Clara County, CA</td>\n",
       "      <td>823890</td>\n",
       "    </tr>\n",
       "    <tr>\n",
       "      <th>20</th>\n",
       "      <td>20</td>\n",
       "      <td>Solano County, CA</td>\n",
       "      <td>274881</td>\n",
       "    </tr>\n",
       "    <tr>\n",
       "      <th>21</th>\n",
       "      <td>21</td>\n",
       "      <td>Sonoma County, CA</td>\n",
       "      <td>342615</td>\n",
       "    </tr>\n",
       "    <tr>\n",
       "      <th>22</th>\n",
       "      <td>22</td>\n",
       "      <td>Stanislaus County, CA</td>\n",
       "      <td>283971</td>\n",
       "    </tr>\n",
       "    <tr>\n",
       "      <th>23</th>\n",
       "      <td>23</td>\n",
       "      <td>Ventura County, CA</td>\n",
       "      <td>481172</td>\n",
       "    </tr>\n",
       "    <tr>\n",
       "      <th>24</th>\n",
       "      <td>24</td>\n",
       "      <td>Yolo County, CA</td>\n",
       "      <td>124102</td>\n",
       "    </tr>\n",
       "    <tr>\n",
       "      <th>25</th>\n",
       "      <td>25</td>\n",
       "      <td>Hawaii County, HI</td>\n",
       "      <td>142456</td>\n",
       "    </tr>\n",
       "    <tr>\n",
       "      <th>26</th>\n",
       "      <td>26</td>\n",
       "      <td>Honolulu County, HI</td>\n",
       "      <td>651239</td>\n",
       "    </tr>\n",
       "    <tr>\n",
       "      <th>27</th>\n",
       "      <td>27</td>\n",
       "      <td>Maui County, HI</td>\n",
       "      <td>116246</td>\n",
       "    </tr>\n",
       "  </tbody>\n",
       "</table>\n",
       "</div>"
      ],
      "text/plain": [
       "    index                     county  otherspeakers_counties\n",
       "0       0        Maricopa County, AZ                 2661566\n",
       "1       1          Navajo County, AZ                   62532\n",
       "2       2            Pima County, AZ                  661590\n",
       "3       3         Alameda County, CA                  817782\n",
       "4       4    Contra Costa County, CA                  666701\n",
       "5       5          Fresno County, CA                  484636\n",
       "6       6            Kern County, CA                  448868\n",
       "7       7     Los Angeles County, CA                 3991721\n",
       "8       8        Monterey County, CA                  183807\n",
       "9       9          Orange County, CA                 1558350\n",
       "10     10          Placer County, CA                  285025\n",
       "11     11       Riverside County, CA                 1243234\n",
       "12     12      Sacramento County, CA                  918792\n",
       "13     13  San Bernardino County, CA                 1119072\n",
       "14     14       San Diego County, CA                 1835381\n",
       "15     15   San Francisco County, CA                  429739\n",
       "16     16     San Joaquin County, CA                  384305\n",
       "17     17       San Mateo County, CA                  369102\n",
       "18     18   Santa Barbara County, CA                  238937\n",
       "19     19     Santa Clara County, CA                  823890\n",
       "20     20          Solano County, CA                  274881\n",
       "21     21          Sonoma County, CA                  342615\n",
       "22     22      Stanislaus County, CA                  283971\n",
       "23     23         Ventura County, CA                  481172\n",
       "24     24            Yolo County, CA                  124102\n",
       "25     25          Hawaii County, HI                  142456\n",
       "26     26        Honolulu County, HI                  651239\n",
       "27     27            Maui County, HI                  116246"
      ]
     },
     "execution_count": 89,
     "metadata": {},
     "output_type": "execute_result"
    }
   ],
   "source": [
    "otherspeakers2009"
   ]
  },
  {
   "cell_type": "code",
   "execution_count": 91,
   "metadata": {},
   "outputs": [
    {
     "name": "stderr",
     "output_type": "stream",
     "text": [
      "/home/alli/.local/lib/python3.5/site-packages/ipykernel_launcher.py:12: FutureWarning: set_value is deprecated and will be removed in a future release. Please use .at[] or .iat[] accessors instead\n",
      "  if sys.path[0] == '':\n",
      "/home/alli/.local/lib/python3.5/site-packages/ipykernel_launcher.py:13: FutureWarning: set_value is deprecated and will be removed in a future release. Please use .at[] or .iat[] accessors instead\n",
      "  del sys.path[0]\n"
     ]
    }
   ],
   "source": [
    "AZcounty = pd.Series()\n",
    "otherspeakers_AZcounties = pd.Series()\n",
    "createCountyDataFrame(otherspeakers_AZcounties, AZcounty,\"AZ\",txtcounties2009 , 1)\n"
   ]
  },
  {
   "cell_type": "code",
   "execution_count": 96,
   "metadata": {},
   "outputs": [
    {
     "data": {
      "text/plain": [
       "0     2661566\n",
       "1       62532\n",
       "2      661590\n",
       "3      817782\n",
       "4      666701\n",
       "5      484636\n",
       "6      448868\n",
       "7     3991721\n",
       "8      183807\n",
       "9     1558350\n",
       "10     285025\n",
       "11    1243234\n",
       "12     918792\n",
       "13    1119072\n",
       "14    1835381\n",
       "15     429739\n",
       "16     384305\n",
       "17     369102\n",
       "18     238937\n",
       "19     823890\n",
       "20     274881\n",
       "21     342615\n",
       "22     283971\n",
       "23     481172\n",
       "24     124102\n",
       "25     142456\n",
       "26     651239\n",
       "27     116246\n",
       "dtype: int64"
      ]
     },
     "execution_count": 96,
     "metadata": {},
     "output_type": "execute_result"
    }
   ],
   "source": [
    "otherspeakers_AZcounties"
   ]
  },
  {
   "cell_type": "code",
   "execution_count": 94,
   "metadata": {},
   "outputs": [
    {
     "data": {
      "image/png": "[encoded data removed]",
      "text/plain": [
       "<Figure size 432x288 with 1 Axes>"
      ]
     },
     "metadata": {
      "needs_background": "light"
     },
     "output_type": "display_data"
    }
   ],
   "source": [
    "plt.figure()\n",
    "for i in range(0,len(AZcounty)): \n",
    "    plt.bar(i, otherspeakers_AZcounties[i])\n",
    "    plt.autoscale(enable=True)\n",
    "    plt.xticks(range(0,len(AZcounty)), AZcounty[0:len(AZcounty)])\n",
    "    plt.title(\"Other Language Speakers in Arizona by County\")\n",
    "    plt.xlabel(\"County\")\n",
    "    plt.ylabel(\"Fraction of Other Language Speakers\")"
   ]
  },
  {
   "cell_type": "markdown",
   "metadata": {},
   "source": [
    "Things to try : \n",
    "-plotting this bar graph by urban area\n",
    "-plotting this bar graph for counties that look like they have extreme ratios( ie AL, CA) to see if ratios are consistent or varied inside these states"
   ]
  },
  {
   "cell_type": "markdown",
   "metadata": {
    "collapsed": true
   },
   "source": [
    "However, how diverse is this actually? We stipulate that if all the different languages spoken in a community are European languages, that changes the perception of how diverse the community is. \n",
    "\n",
    "take the extremes and show the the different languages for those states (pmf) "
   ]
  },
  {
   "cell_type": "code",
   "execution_count": null,
   "metadata": {},
   "outputs": [],
   "source": []
  }
 ],
 "metadata": {
  "kernelspec": {
   "display_name": "Python 3",
   "language": "python",
   "name": "python3"
  },
  "language_info": {
   "codemirror_mode": {
    "name": "ipython",
    "version": 3
   },
   "file_extension": ".py",
   "mimetype": "text/x-python",
   "name": "python",
   "nbconvert_exporter": "python",
   "pygments_lexer": "ipython3",
   "version": "3.5.2"
  }
 },
 "nbformat": 4,
 "nbformat_minor": 2
}
