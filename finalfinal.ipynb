{
 "cells": [
  {
   "cell_type": "markdown",
   "metadata": {},
   "source": [
    "# Analyzing Cultural Diversity through Census Data of Language Spoken at Home\n",
    "\n",
    "By Jordan Crawford-O'Banner and Alli Busa"
   ]
  },
  {
   "cell_type": "markdown",
   "metadata": {},
   "source": [
    "In the news, we've heard that diversity has increased in the United States. While the Census has praised the U.S. for becoming overall more racial and ethnically diverse, FOX newscaster Tucker Carlson has claimed that the rise of immigrants in the U.S. is not happening in \"politicians' neighborhoods\". (See Project Proposal)\n",
    "\n",
    "We wanted to take these two clashing statements and put them both to the test. Has cultural diversity, measured through linguistic diversity, increased significantly in the past few years? How is cultural diversity, through linguistic diversity, spread out throughout the U.S.? Are regions with high ratios of non-English speakers actually linguistically diverse or homogenuously consisting of a non-English speaking community? "
   ]
  },
  {
   "cell_type": "markdown",
   "metadata": {},
   "source": [
    "## Importing Necessary Packages and Setting Up Data Imports"
   ]
  },
  {
   "cell_type": "markdown",
   "metadata": {},
   "source": [
    "Importing necessary packages."
   ]
  },
  {
   "cell_type": "code",
   "execution_count": 1,
   "metadata": {
    "collapsed": true
   },
   "outputs": [],
   "source": [
    "%matplotlib inline\n",
    "\n",
    "#Packages for Calculating\n",
    "import pandas as pd\n",
    "import numpy as np\n",
    "from thinkstats2 import Pmf, Cdf\n",
    "import thinkstats2\n",
    "\n",
    "#Packages for Plotting\n",
    "import matplotlib.pyplot as plt\n",
    "import seaborn as sns\n",
    "sns.set(style='white')\n",
    "import thinkplot\n",
    "from IPython.display import display_html, HTML"
   ]
  },
  {
   "cell_type": "markdown",
   "metadata": {},
   "source": [
    "The data that we will be analyzing for this project is the Census' datasets on language in the U.S., which is available to everyone for noncommercial use. Specifically, the data is the Census' processed responses to the questions,\"Does this person speak a language other than English at home?\" and \"What is this language?\". The Census is filled out by one family member for the whole household and the questions posed to the Census respondents are the questions in quotations above for the whole duration of our dataset. (see https://www.census.gov/topics/population/language-use/about/historical.html). Ideally, every household with a U.S. citizen should respond to the Census, because it is federal law to fill it out. We acknowledge however, that undocumented citizens, whose majority probabily would inform our language data, do not fill out the survey. Nonetheless, we trust the Census data to be valid, because it is federally governed. </p>\n",
    "We have three data sets from the Census. They contain a list of over 380 languages that Americans speak at home and the corresponding number of Americans who speak each language for 2000, the 2006 to 2008 period and the 2009 to 2013 period. \n",
    "In each of these periods, the way that the data was has been processed into excel documents has changed. For example, in the year 2000 data, the excel spreadsheets are states and contain data on the state as a whole and its counties. These two different variables are given in the same column. On the other hand, the 2006-2008 and 2009-2013 data, the counties data and states data are given in two separate excel files altogether. </br>\n",
    "There were some responses to lesser known languages that were omitted due to a very few number of respondents. We account for this issue while organizing our data set below. \n",
    "\n"
   ]
  },
  {
   "cell_type": "markdown",
   "metadata": {},
   "source": [
    "##### Creating Functions and Lists Used for Parsing"
   ]
  },
  {
   "cell_type": "markdown",
   "metadata": {},
   "source": [
    "In order to collect data from multiple Excel sheets more efficiently, we will create a list of state abbreviations and state names. This is important because the data that has been provided to us for 2006 and 2009 has separated the data for each state onto a different sheet within the excel file. We are creating two lists because some of our data's sheet names are state abbreviations and some are counties. "
   ]
  },
  {
   "cell_type": "code",
   "execution_count": 2,
   "metadata": {
    "collapsed": true
   },
   "outputs": [],
   "source": [
    "#State abbreviations\n",
    "#Taken from https://gist.github.com/JeffPaine/3083347\n",
    "states = [\"AL\", \"AK\", \"AZ\", \"AR\", \"CA\", \"CO\", \"CT\", \"DE\", \"FL\", \"GA\", \n",
    "          \"HI\", \"ID\", \"IL\", \"IN\", \"IA\", \"KS\", \"KY\", \"LA\", \"ME\", \"MD\", \n",
    "          \"MA\", \"MI\", \"MN\", \"MS\", \"MO\", \"MT\", \"NE\", \"NV\", \"NH\", \"NJ\", \n",
    "          \"NM\", \"NY\", \"NC\", \"ND\", \"OH\", \"OK\", \"OR\", \"PA\", \"RI\", \"SC\", \n",
    "\"SD\", \"TN\", \"TX\", \"UT\", \"VT\", \"VA\", \"WA\", \"WV\", \"WI\", \"WY\"]\n",
    "\n",
    "#State names\n",
    "#Taken from https://gist.github.com/tleen/6299431\n",
    "statesfull=['Alabama','Alaska','Arizona','Arkansas','California','Colorado','Connecticut',\n",
    "           'Delaware','Florida','Georgia',\n",
    "            'Hawaii','Idaho','Illinois','Indiana','Iowa','Kansas','Kentucky','Louisiana','Maine',\n",
    "            'Maryland','Massachusetts','Michigan','Minnesota','Mississippi','Missouri','Montana','Nebraska',\n",
    "            'Nevada','New Hampshire','New Jersey','New Mexico','New York','North Carolina','North Dakota',\n",
    "            'Ohio','Oklahoma','Oregon','Pennsylvania',\n",
    "            'Rhode Island','South Carolina','South Dakota','Tennessee','Texas','Utah','Vermont',\n",
    "            'Virginia','Washington','West Virginia','Wisconsin','Wyoming']"
   ]
  },
  {
   "cell_type": "markdown",
   "metadata": {},
   "source": [
    "We will create a function called createSeries, which will allow us to create a Pandas Series from multiple sheets within an Excel file. "
   ]
  },
  {
   "cell_type": "code",
   "execution_count": 3,
   "metadata": {
    "collapsed": true
   },
   "outputs": [],
   "source": [
    "def createSeries(arrayNames, textfileName, index, Column, skiprows=[0,1,2]):\n",
    "    \"\"\"\n",
    "    Makes a Series with specific language information from excel file. \n",
    "    It is used for organizing data on total English speakers and total non-English speakers.\n",
    "\n",
    "\n",
    "    arrayNames - this will be either states or statesfull, depending on how Excel sheets are organized\n",
    "    textfileName - the datafile\n",
    "    index - either 0 for total English speakers or 1 for total non-English speakers\n",
    "    Column - depending on the year, the column which contains the number of speakers is either given as \"Number of speakers\" or \"Number of speakers1\"\n",
    "    skiprows - the number of rows before the data begins changes based on Excel file. For the 2006-2008 data, it is [0,1,2], for the 2009-2013 data, it is [0,1,2,3]\n",
    "\n",
    "    \"\"\"\n",
    "    emptySeries = pd.Series()\n",
    "    i=0\n",
    "    for area in arrayNames:\n",
    "\n",
    "        df = pd.read_excel(textfileName, area, skiprows=skiprows).dropna()\n",
    "\n",
    "        #dictionary[area] = df.loc[dictionaryindex1:dictionaryindex1,Column]\n",
    "        emptySeries.set_value(i,df.loc[index, Column])\n",
    "        \n",
    "        i+=1\n",
    "    \n",
    "    #Clean Data\n",
    "    emptySeries.replace(['(X)', '--'], np.nan, inplace=True)\n",
    "    emptySeries.replace(['(B)'],0, inplace=True)\n",
    "    \n",
    "    return emptySeries\n",
    "    "
   ]
  },
  {
   "cell_type": "markdown",
   "metadata": {},
   "source": [
    "Note that this function also cleans the data. \n",
    "There are some entries which do not have numerical entries due to sampling error. For example, 'X' indicates that the question does not apply. \n",
    "We changed 'B' to 0, because those entries indicate that there were too few sample observations to compute an estimate, and we decided that 0 is more representative of that sampling error."
   ]
  },
  {
   "cell_type": "markdown",
   "metadata": {},
   "source": [
    "### Importing and Organizing Data"
   ]
  },
  {
   "cell_type": "markdown",
   "metadata": {},
   "source": [
    "We have decided to start by creating Series and Dataframes of Americans who speak English at home and Americans who speak another language at home. We will refer to former group of people as EOS, 'English Only Speakers', and to the latter group of people as SONELAHs, which stands for 'Speakers of non-English languages at Home'."
   ]
  },
  {
   "cell_type": "markdown",
   "metadata": {},
   "source": [
    "First, we will create a Series of English Speakers at home and SONELAHs as well as a Dataframe for the Census data from 2000. The Census data was formatted differently, so took a different approach to processing this data. We created functions which would parse the 2000 Census data and then create CSV files from it. These functions can be found in the Parse2000 Notebook in this repository."
   ]
  },
  {
   "cell_type": "code",
   "execution_count": 6,
   "metadata": {
    "collapsed": true
   },
   "outputs": [],
   "source": [
    "def createStateDF2000(sheet,area):\n",
    "    \"\"\"\n",
    "    Takes in two empty series and a state.\n",
    "    countyList - a list which will be populated with names of counties in state\n",
    "    countyNumbers - a list containing total speakers of other languages per county\n",
    "    state - state you wish to look at, given as ex: [\"AZ\"]\n",
    "    index - the row number in which t\n",
    "    \"\"\"\n",
    "    dataframe=pd.DataFrame()\n",
    "    for i in range(0,51):\n",
    "        parsetest =  pd.read_excel(\"/home/jobanner/The-Mother-Tongue-of-US-Communities/raw_data/LanguageSpokenatHome_2000.xlsx\", sheet[i], skiprows=[0,1,2,3]).dropna()\n",
    "        eng=parsetest[(parsetest[\"Area Name (State or County)\"]==area[i])& (parsetest[\"Language Code\"]==0)]\n",
    "        sonnie=parsetest[(parsetest[\"Area Name (State or County)\"]==area[i])& (parsetest[\"Language Code\"]!=0)]\n",
    "        langArray=[sum(eng[\"Number of speakers\"]),sum(sonnie[\"Number of speakers\"])]\n",
    "        dataframe[area[i]]=langArray\n",
    "    dataframe=dataframe.T\n",
    "    dataframe=dataframe.set_index(pd.Index(range(0,51)))\n",
    "    dataframe=dataframe.rename(columns={0:\"English Speakers\",1:\"SONELAHs\"})\n",
    "    dataframe[\"States\"]= states\n",
    "    return dataframe"
   ]
  },
  {
   "cell_type": "code",
   "execution_count": 7,
   "metadata": {},
   "outputs": [
    {
     "ename": "KeyboardInterrupt",
     "evalue": "",
     "output_type": "error",
     "traceback": [
      "\u001b[0;31m---------------------------------------------------------------------------\u001b[0m",
      "\u001b[0;31mKeyboardInterrupt\u001b[0m                         Traceback (most recent call last)",
      "\u001b[0;32m<ipython-input-7-a99a55e762aa>\u001b[0m in \u001b[0;36m<module>\u001b[0;34m()\u001b[0m\n\u001b[0;32m----> 1\u001b[0;31m \u001b[0mdf2000\u001b[0m\u001b[0;34m=\u001b[0m\u001b[0mcreateStateDF2000\u001b[0m\u001b[0;34m(\u001b[0m\u001b[0mstates\u001b[0m\u001b[0;34m,\u001b[0m\u001b[0mstatesfull\u001b[0m\u001b[0;34m)\u001b[0m\u001b[0;34m\u001b[0m\u001b[0m\n\u001b[0m\u001b[1;32m      2\u001b[0m \u001b[0mdf2000\u001b[0m\u001b[0;34m\u001b[0m\u001b[0m\n",
      "\u001b[0;32m<ipython-input-6-db555c4be512>\u001b[0m in \u001b[0;36mcreateStateDF2000\u001b[0;34m(sheet, area)\u001b[0m\n\u001b[1;32m      9\u001b[0m     \u001b[0mdataframe\u001b[0m\u001b[0;34m=\u001b[0m\u001b[0mpd\u001b[0m\u001b[0;34m.\u001b[0m\u001b[0mDataFrame\u001b[0m\u001b[0;34m(\u001b[0m\u001b[0;34m)\u001b[0m\u001b[0;34m\u001b[0m\u001b[0m\n\u001b[1;32m     10\u001b[0m     \u001b[0;32mfor\u001b[0m \u001b[0mi\u001b[0m \u001b[0;32min\u001b[0m \u001b[0mrange\u001b[0m\u001b[0;34m(\u001b[0m\u001b[0;36m0\u001b[0m\u001b[0;34m,\u001b[0m\u001b[0;36m51\u001b[0m\u001b[0;34m)\u001b[0m\u001b[0;34m:\u001b[0m\u001b[0;34m\u001b[0m\u001b[0m\n\u001b[0;32m---> 11\u001b[0;31m         \u001b[0mparsetest\u001b[0m \u001b[0;34m=\u001b[0m  \u001b[0mpd\u001b[0m\u001b[0;34m.\u001b[0m\u001b[0mread_excel\u001b[0m\u001b[0;34m(\u001b[0m\u001b[0;34m\"/home/jobanner/The-Mother-Tongue-of-US-Communities/raw_data/LanguageSpokenatHome_2000.xlsx\"\u001b[0m\u001b[0;34m,\u001b[0m \u001b[0msheet\u001b[0m\u001b[0;34m[\u001b[0m\u001b[0mi\u001b[0m\u001b[0;34m]\u001b[0m\u001b[0;34m,\u001b[0m \u001b[0mskiprows\u001b[0m\u001b[0;34m=\u001b[0m\u001b[0;34m[\u001b[0m\u001b[0;36m0\u001b[0m\u001b[0;34m,\u001b[0m\u001b[0;36m1\u001b[0m\u001b[0;34m,\u001b[0m\u001b[0;36m2\u001b[0m\u001b[0;34m,\u001b[0m\u001b[0;36m3\u001b[0m\u001b[0;34m]\u001b[0m\u001b[0;34m)\u001b[0m\u001b[0;34m.\u001b[0m\u001b[0mdropna\u001b[0m\u001b[0;34m(\u001b[0m\u001b[0;34m)\u001b[0m\u001b[0;34m\u001b[0m\u001b[0m\n\u001b[0m\u001b[1;32m     12\u001b[0m         \u001b[0meng\u001b[0m\u001b[0;34m=\u001b[0m\u001b[0mparsetest\u001b[0m\u001b[0;34m[\u001b[0m\u001b[0;34m(\u001b[0m\u001b[0mparsetest\u001b[0m\u001b[0;34m[\u001b[0m\u001b[0;34m\"Area Name (State or County)\"\u001b[0m\u001b[0;34m]\u001b[0m\u001b[0;34m==\u001b[0m\u001b[0marea\u001b[0m\u001b[0;34m[\u001b[0m\u001b[0mi\u001b[0m\u001b[0;34m]\u001b[0m\u001b[0;34m)\u001b[0m\u001b[0;34m&\u001b[0m \u001b[0;34m(\u001b[0m\u001b[0mparsetest\u001b[0m\u001b[0;34m[\u001b[0m\u001b[0;34m\"Language Code\"\u001b[0m\u001b[0;34m]\u001b[0m\u001b[0;34m==\u001b[0m\u001b[0;36m0\u001b[0m\u001b[0;34m)\u001b[0m\u001b[0;34m]\u001b[0m\u001b[0;34m\u001b[0m\u001b[0m\n\u001b[1;32m     13\u001b[0m         \u001b[0msonnie\u001b[0m\u001b[0;34m=\u001b[0m\u001b[0mparsetest\u001b[0m\u001b[0;34m[\u001b[0m\u001b[0;34m(\u001b[0m\u001b[0mparsetest\u001b[0m\u001b[0;34m[\u001b[0m\u001b[0;34m\"Area Name (State or County)\"\u001b[0m\u001b[0;34m]\u001b[0m\u001b[0;34m==\u001b[0m\u001b[0marea\u001b[0m\u001b[0;34m[\u001b[0m\u001b[0mi\u001b[0m\u001b[0;34m]\u001b[0m\u001b[0;34m)\u001b[0m\u001b[0;34m&\u001b[0m \u001b[0;34m(\u001b[0m\u001b[0mparsetest\u001b[0m\u001b[0;34m[\u001b[0m\u001b[0;34m\"Language Code\"\u001b[0m\u001b[0;34m]\u001b[0m\u001b[0;34m!=\u001b[0m\u001b[0;36m0\u001b[0m\u001b[0;34m)\u001b[0m\u001b[0;34m]\u001b[0m\u001b[0;34m\u001b[0m\u001b[0m\n",
      "\u001b[0;32m~/anaconda3/lib/python3.6/site-packages/pandas/util/_decorators.py\u001b[0m in \u001b[0;36mwrapper\u001b[0;34m(*args, **kwargs)\u001b[0m\n\u001b[1;32m    186\u001b[0m                 \u001b[0;32melse\u001b[0m\u001b[0;34m:\u001b[0m\u001b[0;34m\u001b[0m\u001b[0m\n\u001b[1;32m    187\u001b[0m                     \u001b[0mkwargs\u001b[0m\u001b[0;34m[\u001b[0m\u001b[0mnew_arg_name\u001b[0m\u001b[0;34m]\u001b[0m \u001b[0;34m=\u001b[0m \u001b[0mnew_arg_value\u001b[0m\u001b[0;34m\u001b[0m\u001b[0m\n\u001b[0;32m--> 188\u001b[0;31m             \u001b[0;32mreturn\u001b[0m \u001b[0mfunc\u001b[0m\u001b[0;34m(\u001b[0m\u001b[0;34m*\u001b[0m\u001b[0margs\u001b[0m\u001b[0;34m,\u001b[0m \u001b[0;34m**\u001b[0m\u001b[0mkwargs\u001b[0m\u001b[0;34m)\u001b[0m\u001b[0;34m\u001b[0m\u001b[0m\n\u001b[0m\u001b[1;32m    189\u001b[0m         \u001b[0;32mreturn\u001b[0m \u001b[0mwrapper\u001b[0m\u001b[0;34m\u001b[0m\u001b[0m\n\u001b[1;32m    190\u001b[0m     \u001b[0;32mreturn\u001b[0m \u001b[0m_deprecate_kwarg\u001b[0m\u001b[0;34m\u001b[0m\u001b[0m\n",
      "\u001b[0;32m~/anaconda3/lib/python3.6/site-packages/pandas/util/_decorators.py\u001b[0m in \u001b[0;36mwrapper\u001b[0;34m(*args, **kwargs)\u001b[0m\n\u001b[1;32m    186\u001b[0m                 \u001b[0;32melse\u001b[0m\u001b[0;34m:\u001b[0m\u001b[0;34m\u001b[0m\u001b[0m\n\u001b[1;32m    187\u001b[0m                     \u001b[0mkwargs\u001b[0m\u001b[0;34m[\u001b[0m\u001b[0mnew_arg_name\u001b[0m\u001b[0;34m]\u001b[0m \u001b[0;34m=\u001b[0m \u001b[0mnew_arg_value\u001b[0m\u001b[0;34m\u001b[0m\u001b[0m\n\u001b[0;32m--> 188\u001b[0;31m             \u001b[0;32mreturn\u001b[0m \u001b[0mfunc\u001b[0m\u001b[0;34m(\u001b[0m\u001b[0;34m*\u001b[0m\u001b[0margs\u001b[0m\u001b[0;34m,\u001b[0m \u001b[0;34m**\u001b[0m\u001b[0mkwargs\u001b[0m\u001b[0;34m)\u001b[0m\u001b[0;34m\u001b[0m\u001b[0m\n\u001b[0m\u001b[1;32m    189\u001b[0m         \u001b[0;32mreturn\u001b[0m \u001b[0mwrapper\u001b[0m\u001b[0;34m\u001b[0m\u001b[0m\n\u001b[1;32m    190\u001b[0m     \u001b[0;32mreturn\u001b[0m \u001b[0m_deprecate_kwarg\u001b[0m\u001b[0;34m\u001b[0m\u001b[0m\n",
      "\u001b[0;32m~/anaconda3/lib/python3.6/site-packages/pandas/io/excel.py\u001b[0m in \u001b[0;36mread_excel\u001b[0;34m(io, sheet_name, header, names, index_col, parse_cols, usecols, squeeze, dtype, engine, converters, true_values, false_values, skiprows, nrows, na_values, keep_default_na, verbose, parse_dates, date_parser, thousands, comment, skip_footer, skipfooter, convert_float, mangle_dupe_cols, **kwds)\u001b[0m\n\u001b[1;32m    348\u001b[0m \u001b[0;34m\u001b[0m\u001b[0m\n\u001b[1;32m    349\u001b[0m     \u001b[0;32mif\u001b[0m \u001b[0;32mnot\u001b[0m \u001b[0misinstance\u001b[0m\u001b[0;34m(\u001b[0m\u001b[0mio\u001b[0m\u001b[0;34m,\u001b[0m \u001b[0mExcelFile\u001b[0m\u001b[0;34m)\u001b[0m\u001b[0;34m:\u001b[0m\u001b[0;34m\u001b[0m\u001b[0m\n\u001b[0;32m--> 350\u001b[0;31m         \u001b[0mio\u001b[0m \u001b[0;34m=\u001b[0m \u001b[0mExcelFile\u001b[0m\u001b[0;34m(\u001b[0m\u001b[0mio\u001b[0m\u001b[0;34m,\u001b[0m \u001b[0mengine\u001b[0m\u001b[0;34m=\u001b[0m\u001b[0mengine\u001b[0m\u001b[0;34m)\u001b[0m\u001b[0;34m\u001b[0m\u001b[0m\n\u001b[0m\u001b[1;32m    351\u001b[0m \u001b[0;34m\u001b[0m\u001b[0m\n\u001b[1;32m    352\u001b[0m     return io.parse(\n",
      "\u001b[0;32m~/anaconda3/lib/python3.6/site-packages/pandas/io/excel.py\u001b[0m in \u001b[0;36m__init__\u001b[0;34m(self, io, engine)\u001b[0m\n\u001b[1;32m    651\u001b[0m         \u001b[0mself\u001b[0m\u001b[0;34m.\u001b[0m\u001b[0m_io\u001b[0m \u001b[0;34m=\u001b[0m \u001b[0m_stringify_path\u001b[0m\u001b[0;34m(\u001b[0m\u001b[0mio\u001b[0m\u001b[0;34m)\u001b[0m\u001b[0;34m\u001b[0m\u001b[0m\n\u001b[1;32m    652\u001b[0m \u001b[0;34m\u001b[0m\u001b[0m\n\u001b[0;32m--> 653\u001b[0;31m         \u001b[0mself\u001b[0m\u001b[0;34m.\u001b[0m\u001b[0m_reader\u001b[0m \u001b[0;34m=\u001b[0m \u001b[0mself\u001b[0m\u001b[0;34m.\u001b[0m\u001b[0m_engines\u001b[0m\u001b[0;34m[\u001b[0m\u001b[0mengine\u001b[0m\u001b[0;34m]\u001b[0m\u001b[0;34m(\u001b[0m\u001b[0mself\u001b[0m\u001b[0;34m.\u001b[0m\u001b[0m_io\u001b[0m\u001b[0;34m)\u001b[0m\u001b[0;34m\u001b[0m\u001b[0m\n\u001b[0m\u001b[1;32m    654\u001b[0m \u001b[0;34m\u001b[0m\u001b[0m\n\u001b[1;32m    655\u001b[0m     \u001b[0;32mdef\u001b[0m \u001b[0m__fspath__\u001b[0m\u001b[0;34m(\u001b[0m\u001b[0mself\u001b[0m\u001b[0;34m)\u001b[0m\u001b[0;34m:\u001b[0m\u001b[0;34m\u001b[0m\u001b[0m\n",
      "\u001b[0;32m~/anaconda3/lib/python3.6/site-packages/pandas/io/excel.py\u001b[0m in \u001b[0;36m__init__\u001b[0;34m(self, filepath_or_buffer)\u001b[0m\n\u001b[1;32m    422\u001b[0m             \u001b[0mself\u001b[0m\u001b[0;34m.\u001b[0m\u001b[0mbook\u001b[0m \u001b[0;34m=\u001b[0m \u001b[0mxlrd\u001b[0m\u001b[0;34m.\u001b[0m\u001b[0mopen_workbook\u001b[0m\u001b[0;34m(\u001b[0m\u001b[0mfile_contents\u001b[0m\u001b[0;34m=\u001b[0m\u001b[0mdata\u001b[0m\u001b[0;34m)\u001b[0m\u001b[0;34m\u001b[0m\u001b[0m\n\u001b[1;32m    423\u001b[0m         \u001b[0;32melif\u001b[0m \u001b[0misinstance\u001b[0m\u001b[0;34m(\u001b[0m\u001b[0mfilepath_or_buffer\u001b[0m\u001b[0;34m,\u001b[0m \u001b[0mcompat\u001b[0m\u001b[0;34m.\u001b[0m\u001b[0mstring_types\u001b[0m\u001b[0;34m)\u001b[0m\u001b[0;34m:\u001b[0m\u001b[0;34m\u001b[0m\u001b[0m\n\u001b[0;32m--> 424\u001b[0;31m             \u001b[0mself\u001b[0m\u001b[0;34m.\u001b[0m\u001b[0mbook\u001b[0m \u001b[0;34m=\u001b[0m \u001b[0mxlrd\u001b[0m\u001b[0;34m.\u001b[0m\u001b[0mopen_workbook\u001b[0m\u001b[0;34m(\u001b[0m\u001b[0mfilepath_or_buffer\u001b[0m\u001b[0;34m)\u001b[0m\u001b[0;34m\u001b[0m\u001b[0m\n\u001b[0m\u001b[1;32m    425\u001b[0m         \u001b[0;32melse\u001b[0m\u001b[0;34m:\u001b[0m\u001b[0;34m\u001b[0m\u001b[0m\n\u001b[1;32m    426\u001b[0m             raise ValueError('Must explicitly set engine if not passing in'\n",
      "\u001b[0;32m~/anaconda3/lib/python3.6/site-packages/xlrd/__init__.py\u001b[0m in \u001b[0;36mopen_workbook\u001b[0;34m(filename, logfile, verbosity, use_mmap, file_contents, encoding_override, formatting_info, on_demand, ragged_rows)\u001b[0m\n\u001b[1;32m    141\u001b[0m                 \u001b[0mformatting_info\u001b[0m\u001b[0;34m=\u001b[0m\u001b[0mformatting_info\u001b[0m\u001b[0;34m,\u001b[0m\u001b[0;34m\u001b[0m\u001b[0m\n\u001b[1;32m    142\u001b[0m                 \u001b[0mon_demand\u001b[0m\u001b[0;34m=\u001b[0m\u001b[0mon_demand\u001b[0m\u001b[0;34m,\u001b[0m\u001b[0;34m\u001b[0m\u001b[0m\n\u001b[0;32m--> 143\u001b[0;31m                 \u001b[0mragged_rows\u001b[0m\u001b[0;34m=\u001b[0m\u001b[0mragged_rows\u001b[0m\u001b[0;34m,\u001b[0m\u001b[0;34m\u001b[0m\u001b[0m\n\u001b[0m\u001b[1;32m    144\u001b[0m                 )\n\u001b[1;32m    145\u001b[0m             \u001b[0;32mreturn\u001b[0m \u001b[0mbk\u001b[0m\u001b[0;34m\u001b[0m\u001b[0m\n",
      "\u001b[0;32m~/anaconda3/lib/python3.6/site-packages/xlrd/xlsx.py\u001b[0m in \u001b[0;36mopen_workbook_2007_xml\u001b[0;34m(zf, component_names, logfile, verbosity, use_mmap, formatting_info, on_demand, ragged_rows)\u001b[0m\n\u001b[1;32m    835\u001b[0m         \u001b[0mx12sheet\u001b[0m \u001b[0;34m=\u001b[0m \u001b[0mX12Sheet\u001b[0m\u001b[0;34m(\u001b[0m\u001b[0msheet\u001b[0m\u001b[0;34m,\u001b[0m \u001b[0mlogfile\u001b[0m\u001b[0;34m,\u001b[0m \u001b[0mverbosity\u001b[0m\u001b[0;34m)\u001b[0m\u001b[0;34m\u001b[0m\u001b[0m\n\u001b[1;32m    836\u001b[0m         \u001b[0mheading\u001b[0m \u001b[0;34m=\u001b[0m \u001b[0;34m\"Sheet %r (sheetx=%d) from %r\"\u001b[0m \u001b[0;34m%\u001b[0m \u001b[0;34m(\u001b[0m\u001b[0msheet\u001b[0m\u001b[0;34m.\u001b[0m\u001b[0mname\u001b[0m\u001b[0;34m,\u001b[0m \u001b[0msheetx\u001b[0m\u001b[0;34m,\u001b[0m \u001b[0mfname\u001b[0m\u001b[0;34m)\u001b[0m\u001b[0;34m\u001b[0m\u001b[0m\n\u001b[0;32m--> 837\u001b[0;31m         \u001b[0mx12sheet\u001b[0m\u001b[0;34m.\u001b[0m\u001b[0mprocess_stream\u001b[0m\u001b[0;34m(\u001b[0m\u001b[0mzflo\u001b[0m\u001b[0;34m,\u001b[0m \u001b[0mheading\u001b[0m\u001b[0;34m)\u001b[0m\u001b[0;34m\u001b[0m\u001b[0m\n\u001b[0m\u001b[1;32m    838\u001b[0m         \u001b[0;32mdel\u001b[0m \u001b[0mzflo\u001b[0m\u001b[0;34m\u001b[0m\u001b[0m\n\u001b[1;32m    839\u001b[0m \u001b[0;34m\u001b[0m\u001b[0m\n",
      "\u001b[0;32m~/anaconda3/lib/python3.6/site-packages/xlrd/xlsx.py\u001b[0m in \u001b[0;36mown_process_stream\u001b[0;34m(self, stream, heading)\u001b[0m\n\u001b[1;32m    546\u001b[0m         \u001b[0;32mfor\u001b[0m \u001b[0mevent\u001b[0m\u001b[0;34m,\u001b[0m \u001b[0melem\u001b[0m \u001b[0;32min\u001b[0m \u001b[0mET\u001b[0m\u001b[0;34m.\u001b[0m\u001b[0miterparse\u001b[0m\u001b[0;34m(\u001b[0m\u001b[0mstream\u001b[0m\u001b[0;34m)\u001b[0m\u001b[0;34m:\u001b[0m\u001b[0;34m\u001b[0m\u001b[0m\n\u001b[1;32m    547\u001b[0m             \u001b[0;32mif\u001b[0m \u001b[0melem\u001b[0m\u001b[0;34m.\u001b[0m\u001b[0mtag\u001b[0m \u001b[0;34m==\u001b[0m \u001b[0mrow_tag\u001b[0m\u001b[0;34m:\u001b[0m\u001b[0;34m\u001b[0m\u001b[0m\n\u001b[0;32m--> 548\u001b[0;31m                 \u001b[0mself_do_row\u001b[0m\u001b[0;34m(\u001b[0m\u001b[0melem\u001b[0m\u001b[0;34m)\u001b[0m\u001b[0;34m\u001b[0m\u001b[0m\n\u001b[0m\u001b[1;32m    549\u001b[0m                 \u001b[0melem\u001b[0m\u001b[0;34m.\u001b[0m\u001b[0mclear\u001b[0m\u001b[0;34m(\u001b[0m\u001b[0;34m)\u001b[0m \u001b[0;31m# destroy all child elements (cells)\u001b[0m\u001b[0;34m\u001b[0m\u001b[0m\n\u001b[1;32m    550\u001b[0m             \u001b[0;32melif\u001b[0m \u001b[0melem\u001b[0m\u001b[0;34m.\u001b[0m\u001b[0mtag\u001b[0m \u001b[0;34m==\u001b[0m \u001b[0mU_SSML12\u001b[0m \u001b[0;34m+\u001b[0m \u001b[0;34m\"dimension\"\u001b[0m\u001b[0;34m:\u001b[0m\u001b[0;34m\u001b[0m\u001b[0m\n",
      "\u001b[0;32m~/anaconda3/lib/python3.6/site-packages/xlrd/xlsx.py\u001b[0m in \u001b[0;36mdo_row\u001b[0;34m(self, row_elem)\u001b[0m\n\u001b[1;32m    641\u001b[0m         \u001b[0mletter_value\u001b[0m \u001b[0;34m=\u001b[0m \u001b[0m_UPPERCASE_1_REL_INDEX\u001b[0m\u001b[0;34m\u001b[0m\u001b[0m\n\u001b[1;32m    642\u001b[0m         \u001b[0;32mfor\u001b[0m \u001b[0mcell_elem\u001b[0m \u001b[0;32min\u001b[0m \u001b[0mrow_elem\u001b[0m\u001b[0;34m:\u001b[0m\u001b[0;34m\u001b[0m\u001b[0m\n\u001b[0;32m--> 643\u001b[0;31m             \u001b[0mcell_name\u001b[0m \u001b[0;34m=\u001b[0m \u001b[0mcell_elem\u001b[0m\u001b[0;34m.\u001b[0m\u001b[0mget\u001b[0m\u001b[0;34m(\u001b[0m\u001b[0;34m'r'\u001b[0m\u001b[0;34m)\u001b[0m\u001b[0;34m\u001b[0m\u001b[0m\n\u001b[0m\u001b[1;32m    644\u001b[0m             \u001b[0;32mif\u001b[0m \u001b[0mcell_name\u001b[0m \u001b[0;32mis\u001b[0m \u001b[0;32mNone\u001b[0m\u001b[0;34m:\u001b[0m \u001b[0;31m# Yes, it's optional.\u001b[0m\u001b[0;34m\u001b[0m\u001b[0m\n\u001b[1;32m    645\u001b[0m                 \u001b[0mcolx\u001b[0m \u001b[0;34m+=\u001b[0m \u001b[0;36m1\u001b[0m\u001b[0;34m\u001b[0m\u001b[0m\n",
      "\u001b[0;31mKeyboardInterrupt\u001b[0m: "
     ]
    }
   ],
   "source": [
    "df2000=createStateDF2000(states,statesfull)\n",
    "df2000"
   ]
  },
  {
   "cell_type": "code",
   "execution_count": 16,
   "metadata": {},
   "outputs": [],
   "source": [
    "#Creating Series\n",
    "eos2000 = pd.read_csv(\"/home/jobanner/The-Mother-Tongue-of-US-Communities/eng2000state.csv\").iloc[0]\n",
    "sonelah2000 = pd.read_csv(\"/home/jobanner/The-Mother-Tongue-of-US-Communities/other2000state.csv\").iloc[0]\n",
    "\n",
    "#Cleaning Dataset\n",
    "eos2000[\"DC\"]=  np.nan\n",
    "sonelah2000[\"DC\"]= np.nan\n",
    "\n",
    "#Creating Dataframe\n",
    "df2000=pd.DataFrame({\"States\": states,\"EOS\":eos2000[:50],\"SONELAHs\":sonelah2000[:50]})\n"
   ]
  },
  {
   "cell_type": "markdown",
   "metadata": {},
   "source": [
    "Notice that we set the DC values to nan. We did this because the DC data for this file has language multiple times with no distinction, making it hard to parse. We suppose that this is because DC is separated into counties, but those counties weren't listed. In order to acommodate for this, we took DC data out of all the datasets by not including it states list."
   ]
  },
  {
   "cell_type": "markdown",
   "metadata": {},
   "source": [
    "Next, we will create the same Series and Dataframe for the 2006 data. The 2006 data is organized in multiple sheets, which are given by the state abbreviation."
   ]
  },
  {
   "cell_type": "code",
   "execution_count": 9,
   "metadata": {},
   "outputs": [
    {
     "name": "stderr",
     "output_type": "stream",
     "text": [
      "/home/jobanner/anaconda3/lib/python3.6/site-packages/ipykernel_launcher.py:21: FutureWarning: set_value is deprecated and will be removed in a future release. Please use .at[] or .iat[] accessors instead\n"
     ]
    }
   ],
   "source": [
    "#Referencing Textfile\n",
    "txtfile2006 = \"/home/jobanner/The-Mother-Tongue-of-US-Communities/raw_data/DetailedLanguageSpoken_State_20062008.xls\"\n",
    "\n",
    "#Creating Series\n",
    "eos2006 = createSeries(states, txtfile2006, 1,\"Number of speakers\", skiprows=[0,1,2])\n",
    "sonelah2006 = createSeries(states, txtfile2006, 2,\"Number of speakers\", skiprows=[0,1,2])\n",
    "\n",
    "#Creating Dataframe\n",
    "df2006=pd.DataFrame({\"States\": states,\"EOS\":eos2006,\"SONELAHs\":sonelah2006})"
   ]
  },
  {
   "cell_type": "markdown",
   "metadata": {},
   "source": [
    "Lastly, we will create the same Series and Dataframe for the 2009 data. The 2009 data is organized in multiple sheets, which are given by the full state names. This data is also parsed differently, because the column name which belongs to the column that provides number of speakers is given as \"Number of speakers1\" instead of \"Number of speakers\". Also, in this Excel file, the parser needs to skip the first four rows, instead of the first three (initialized at 0)."
   ]
  },
  {
   "cell_type": "code",
   "execution_count": 10,
   "metadata": {},
   "outputs": [
    {
     "name": "stderr",
     "output_type": "stream",
     "text": [
      "/home/jobanner/anaconda3/lib/python3.6/site-packages/ipykernel_launcher.py:21: FutureWarning: set_value is deprecated and will be removed in a future release. Please use .at[] or .iat[] accessors instead\n"
     ]
    }
   ],
   "source": [
    "#Referencing Textfile\n",
    "txtfile2009 =  \"/home/jobanner/The-Mother-Tongue-of-US-Communities/raw_data/LanguageSpokenatHome_State_2009-2013.xls\"\n",
    "\n",
    "#Creating Series\n",
    "eos2009 = createSeries(statesfull, txtfile2009, 1,\"Number of speakers1\", skiprows=[0,1,2,3])\n",
    "sonelah2009 = createSeries(statesfull, txtfile2009, 2,\"Number of speakers1\", skiprows=[0,1,2,3])\n",
    "\n",
    "#Creating Dataframe\n",
    "df2009=pd.DataFrame({\"States\": states,\"EOS\":eos2009,\"SONELAHs\":sonelah2009})"
   ]
  },
  {
   "cell_type": "markdown",
   "metadata": {},
   "source": [
    "## State-Wide Analysis\n",
    "\n",
    "We will begin by plotting PMFs and creating tables to try to answer \"Has cultural diversity, measured through linguistic diversity, increased significantly in the past few years? How is cultural diversity, through linguistic diversity, spread out throughout the U.S.? \" on a statewide level."
   ]
  },
  {
   "cell_type": "markdown",
   "metadata": {},
   "source": [
    "##### Functions\n",
    "First, we will create functions which will help us analyze and graph the data. "
   ]
  },
  {
   "cell_type": "code",
   "execution_count": 11,
   "metadata": {
    "collapsed": true
   },
   "outputs": [],
   "source": [
    "def createPMFs(df):\n",
    "    \"\"\"\n",
    "    Takes the dataframe which contains the number of EOS and SONELAHs per census file. \n",
    "    Returns the same Dataframe with a column of PMFs of SONELAHs by state, sorted from \n",
    "    least to greatest.\n",
    "    \n",
    "    df - dataframe which contains the sorted number of EOS and SONELAHs per census file. ie: df2009\n",
    "    \"\"\"\n",
    "    sonelah=df[\"SONELAHs\"]\n",
    "    eos=df[\"EOS\"]\n",
    "    df[\"PMF\"] = sonelah/(sonelah+eos)\n",
    "    df=df.sort_values(by=\"PMF\") #sorts from least to greatest\n",
    "    \n",
    "    return df"
   ]
  },
  {
   "cell_type": "code",
   "execution_count": 12,
   "metadata": {
    "collapsed": true
   },
   "outputs": [],
   "source": [
    "def plotPMFs(df, ax=None):\n",
    "    \"\"\"\n",
    "    Takes the dataframe which contains the number of EOS and SONELAHs per census file. \n",
    "    Returns two graphs with PMF of only English speakers and PMF of speakers of \n",
    "    other languages as normalized percentages of total population of those states. \n",
    "    \n",
    "    df - dataframe which contains the number of EOS and SONELAHs per census file. ie: df2009\n",
    "    \"\"\"\n",
    "    dfwithPMF = createPMFs(df) #Adding a PMF column\n",
    "    i =0 #begining a counter to help plot SONELAHs\n",
    "    if ax is None:\n",
    "        plt.figure(figsize=(20, 3)) \n",
    "    for state in dfwithPMF[\"PMF\"]:\n",
    "        ax.bar(i, state,  color='#B6D7A8')\n",
    "        plt.autoscale(enable=True)\n",
    "        plt.ylim([0.0,1.0])\n",
    "        plt.setp(ax, xticks=range(0,51), xticklabels=dfwithPMF[\"States\"])\n",
    "        plt.setp(ax.get_xticklabels(), rotation=45)\n",
    "        plt.tick_params(axis='both', which='major', labelsize=20)\n",
    "        #ax.set_xlabel(\"State\")\n",
    "        #ax.set_ylabel(\"Percentage of SONELAHs\")\n",
    "        i+=1\n",
    "    return ax"
   ]
  },
  {
   "cell_type": "code",
   "execution_count": 13,
   "metadata": {
    "collapsed": true
   },
   "outputs": [],
   "source": [
    "def createTemporalTable(df2000, df2006, df2009):\n",
    "    \"\"\"\n",
    "    Takes in the dataframes which contain the number of EOS and SONELAHs per census period.\n",
    "    Returns a table that shows the top ten states with the highest percentage of SONELAHs.\n",
    "    \"\"\"\n",
    "    \n",
    "    df2000 = createPMFs(df2000) #Creates PMFs for each dataset and appends\n",
    "    df2000['Percentage'] = df2000['PMF'].multiply(100.*np.ones(len(df2000['PMF']))) #Turns the PMF into a percentage\n",
    "    sorteddf2000 = df2000.sort_values(by='Percentage',ascending=False) #Sorts data in order of greatest to least percentage\n",
    "    sorteddf2000.index = list(range(1,len(sorteddf2000.index)+1)) #creating index for rank\n",
    "    \n",
    "    df2006 = createPMFs(df2006) \n",
    "    df2006['Percentage'] = df2006['PMF'].multiply(100.*np.ones(len(df2006['PMF']))) \n",
    "    sorteddf2006 = df2006.sort_values(by='Percentage',ascending=False) \n",
    "    \n",
    "    df2009 = createPMFs(df2009) \n",
    "    df2009['Percentage'] = df2009['PMF'].multiply(100.*np.ones(len(df2009['PMF']))) \n",
    "    sorteddf2009 = df2009.sort_values(by='Percentage',ascending=False) \n",
    "    \n",
    "    df2000_styler = sorteddf2000.iloc[0:10,[2,4]].style.set_table_attributes(\"style='display:inline'\").set_caption('2000')\n",
    "    df2006_styler = sorteddf2006.iloc[0:10,[2,4]].style.set_table_attributes(\"style='display:inline'\").set_caption('2006').hide_index()\n",
    "    df2009_styler = sorteddf2009.iloc[0:10,[2,4]].style.set_table_attributes(\"style='display:inline'\").set_caption('2009').hide_index()\n",
    "    chart = HTML('<h1>Rank of SONELAHs by State</h1>')\n",
    "    display(chart)\n",
    "\n",
    "    display_html(df2000_styler._repr_html_()+df2006_styler._repr_html_()+df2009_styler._repr_html_(), raw=True)\n",
    "    "
   ]
  },
  {
   "cell_type": "code",
   "execution_count": 14,
   "metadata": {
    "collapsed": true
   },
   "outputs": [],
   "source": [
    "def returnStatesfromRatio(df, percent, sign):\n",
    "    \"\"\"\n",
    "    Takes in a pair of total EOS and SONELAHs, as well as desired ratio and comparison\n",
    "    Returns a table with the number of states which have a percentage of SONELAHs\n",
    "    which is less than or more than the percentage specified. \n",
    "\n",
    "    Percent - Give percent in range (0:1)\n",
    "    Sign - \"Less\" or \"More\"\n",
    "    \"\"\"\n",
    "    dfwithPMF = createPMFs(df) #Adding a PMF column\n",
    "\n",
    "    if sign == \"Less\":\n",
    "        result = dfwithPMF[dfwithPMF[\"PMF\"]  < percent]\n",
    "    if sign == \"More\":\n",
    "        result = dfwithPMF[dfwithPMF[\"PMF\"]  > percent]\n",
    "        \n",
    "    print(result[[\"States\", \"PMF\"]])\n"
   ]
  },
  {
   "cell_type": "markdown",
   "metadata": {},
   "source": [
    "##### Plotting and Creating Tables"
   ]
  },
  {
   "cell_type": "markdown",
   "metadata": {},
   "source": [
    "The first visualization that we are making is a table that shows the top ten states with the highest percentage of SONELAHs in the U.S., in the three time periods for which we have the data. We are creating this to show where the highest linguistic might be, and how that is changing over time."
   ]
  },
  {
   "cell_type": "code",
   "execution_count": 17,
   "metadata": {},
   "outputs": [
    {
     "data": {
      "text/html": [
       "<h1>Rank of SONELAHs by State</h1>"
      ],
      "text/plain": [
       "<IPython.core.display.HTML object>"
      ]
     },
     "metadata": {},
     "output_type": "display_data"
    },
    {
     "data": {
      "text/html": [
       "<style  type=\"text/css\" >\n",
       "</style><table id=\"T_45ed7226_45d6_11e9_8b96_f85971b87446\" style='display:inline'><caption>2000</caption><thead>    <tr>        <th class=\"blank level0\" ></th>        <th class=\"col_heading level0 col0\" >SONELAHs</th>        <th class=\"col_heading level0 col1\" >Percentage</th>    </tr></thead><tbody>\n",
       "                <tr>\n",
       "                        <th id=\"T_45ed7226_45d6_11e9_8b96_f85971b87446level0_row0\" class=\"row_heading level0 row0\" >1</th>\n",
       "                        <td id=\"T_45ed7226_45d6_11e9_8b96_f85971b87446row0_col0\" class=\"data row0 col0\" >662845</td>\n",
       "                        <td id=\"T_45ed7226_45d6_11e9_8b96_f85971b87446row0_col1\" class=\"data row0 col1\" >59.6038</td>\n",
       "            </tr>\n",
       "            <tr>\n",
       "                        <th id=\"T_45ed7226_45d6_11e9_8b96_f85971b87446level0_row1\" class=\"row_heading level0 row1\" >2</th>\n",
       "                        <td id=\"T_45ed7226_45d6_11e9_8b96_f85971b87446row1_col0\" class=\"data row1 col0\" >1.24009e+07</td>\n",
       "                        <td id=\"T_45ed7226_45d6_11e9_8b96_f85971b87446row1_col1\" class=\"data row1 col1\" >39.4735</td>\n",
       "            </tr>\n",
       "            <tr>\n",
       "                        <th id=\"T_45ed7226_45d6_11e9_8b96_f85971b87446level0_row2\" class=\"row_heading level0 row2\" >3</th>\n",
       "                        <td id=\"T_45ed7226_45d6_11e9_8b96_f85971b87446row2_col0\" class=\"data row2 col0\" >616225</td>\n",
       "                        <td id=\"T_45ed7226_45d6_11e9_8b96_f85971b87446row2_col1\" class=\"data row2 col1\" >36.4809</td>\n",
       "            </tr>\n",
       "            <tr>\n",
       "                        <th id=\"T_45ed7226_45d6_11e9_8b96_f85971b87446level0_row3\" class=\"row_heading level0 row3\" >4</th>\n",
       "                        <td id=\"T_45ed7226_45d6_11e9_8b96_f85971b87446row3_col0\" class=\"data row3 col0\" >6.00978e+06</td>\n",
       "                        <td id=\"T_45ed7226_45d6_11e9_8b96_f85971b87446row3_col1\" class=\"data row3 col1\" >31.235</td>\n",
       "            </tr>\n",
       "            <tr>\n",
       "                        <th id=\"T_45ed7226_45d6_11e9_8b96_f85971b87446level0_row4\" class=\"row_heading level0 row4\" >5</th>\n",
       "                        <td id=\"T_45ed7226_45d6_11e9_8b96_f85971b87446row4_col0\" class=\"data row4 col0\" >4.96232e+06</td>\n",
       "                        <td id=\"T_45ed7226_45d6_11e9_8b96_f85971b87446row4_col1\" class=\"data row4 col1\" >27.9591</td>\n",
       "            </tr>\n",
       "            <tr>\n",
       "                        <th id=\"T_45ed7226_45d6_11e9_8b96_f85971b87446level0_row5\" class=\"row_heading level0 row5\" >6</th>\n",
       "                        <td id=\"T_45ed7226_45d6_11e9_8b96_f85971b87446row5_col0\" class=\"data row5 col0\" >301640</td>\n",
       "                        <td id=\"T_45ed7226_45d6_11e9_8b96_f85971b87446row5_col1\" class=\"data row5 col1\" >26.6028</td>\n",
       "            </tr>\n",
       "            <tr>\n",
       "                        <th id=\"T_45ed7226_45d6_11e9_8b96_f85971b87446level0_row6\" class=\"row_heading level0 row6\" >7</th>\n",
       "                        <td id=\"T_45ed7226_45d6_11e9_8b96_f85971b87446row6_col0\" class=\"data row6 col0\" >1.22844e+06</td>\n",
       "                        <td id=\"T_45ed7226_45d6_11e9_8b96_f85971b87446row6_col1\" class=\"data row6 col1\" >25.8515</td>\n",
       "            </tr>\n",
       "            <tr>\n",
       "                        <th id=\"T_45ed7226_45d6_11e9_8b96_f85971b87446level0_row7\" class=\"row_heading level0 row7\" >8</th>\n",
       "                        <td id=\"T_45ed7226_45d6_11e9_8b96_f85971b87446row7_col0\" class=\"data row7 col0\" >2.00104e+06</td>\n",
       "                        <td id=\"T_45ed7226_45d6_11e9_8b96_f85971b87446row7_col1\" class=\"data row7 col1\" >25.4727</td>\n",
       "            </tr>\n",
       "            <tr>\n",
       "                        <th id=\"T_45ed7226_45d6_11e9_8b96_f85971b87446level0_row8\" class=\"row_heading level0 row8\" >9</th>\n",
       "                        <td id=\"T_45ed7226_45d6_11e9_8b96_f85971b87446row8_col0\" class=\"data row8 col0\" >3.47309e+06</td>\n",
       "                        <td id=\"T_45ed7226_45d6_11e9_8b96_f85971b87446row8_col1\" class=\"data row8 col1\" >23.088</td>\n",
       "            </tr>\n",
       "            <tr>\n",
       "                        <th id=\"T_45ed7226_45d6_11e9_8b96_f85971b87446level0_row9\" class=\"row_heading level0 row9\" >10</th>\n",
       "                        <td id=\"T_45ed7226_45d6_11e9_8b96_f85971b87446row9_col0\" class=\"data row9 col0\" >427280</td>\n",
       "                        <td id=\"T_45ed7226_45d6_11e9_8b96_f85971b87446row9_col1\" class=\"data row9 col1\" >23.0585</td>\n",
       "            </tr>\n",
       "    </tbody></table><style  type=\"text/css\" >\n",
       "</style><table id=\"T_45ed7227_45d6_11e9_8b96_f85971b87446\" style='display:inline'><caption>2006</caption><thead>    <tr>        <th class=\"col_heading level0 col0\" >SONELAHs</th>        <th class=\"col_heading level0 col1\" >Percentage</th>    </tr></thead><tbody>\n",
       "                <tr>\n",
       "                                <td id=\"T_45ed7227_45d6_11e9_8b96_f85971b87446row0_col0\" class=\"data row0 col0\" >1.42927e+07</td>\n",
       "                        <td id=\"T_45ed7227_45d6_11e9_8b96_f85971b87446row0_col1\" class=\"data row0 col1\" >42.35</td>\n",
       "            </tr>\n",
       "            <tr>\n",
       "                                <td id=\"T_45ed7227_45d6_11e9_8b96_f85971b87446row1_col0\" class=\"data row1 col0\" >651654</td>\n",
       "                        <td id=\"T_45ed7227_45d6_11e9_8b96_f85971b87446row1_col1\" class=\"data row1 col1\" >35.8435</td>\n",
       "            </tr>\n",
       "            <tr>\n",
       "                                <td id=\"T_45ed7227_45d6_11e9_8b96_f85971b87446row2_col0\" class=\"data row2 col0\" >7.36877e+06</td>\n",
       "                        <td id=\"T_45ed7227_45d6_11e9_8b96_f85971b87446row2_col1\" class=\"data row2 col1\" >33.6948</td>\n",
       "            </tr>\n",
       "            <tr>\n",
       "                                <td id=\"T_45ed7227_45d6_11e9_8b96_f85971b87446row3_col0\" class=\"data row3 col0\" >5.25882e+06</td>\n",
       "                        <td id=\"T_45ed7227_45d6_11e9_8b96_f85971b87446row3_col1\" class=\"data row3 col1\" >28.8556</td>\n",
       "            </tr>\n",
       "            <tr>\n",
       "                                <td id=\"T_45ed7227_45d6_11e9_8b96_f85971b87446row4_col0\" class=\"data row4 col0\" >1.62780e+06</td>\n",
       "                        <td id=\"T_45ed7227_45d6_11e9_8b96_f85971b87446row4_col1\" class=\"data row4 col1\" >27.8547</td>\n",
       "            </tr>\n",
       "            <tr>\n",
       "                                <td id=\"T_45ed7227_45d6_11e9_8b96_f85971b87446row5_col0\" class=\"data row5 col0\" >2.23876e+06</td>\n",
       "                        <td id=\"T_45ed7227_45d6_11e9_8b96_f85971b87446row5_col1\" class=\"data row5 col1\" >27.6368</td>\n",
       "            </tr>\n",
       "            <tr>\n",
       "                                <td id=\"T_45ed7227_45d6_11e9_8b96_f85971b87446row6_col0\" class=\"data row6 col0\" >642235</td>\n",
       "                        <td id=\"T_45ed7227_45d6_11e9_8b96_f85971b87446row6_col1\" class=\"data row6 col1\" >27.3154</td>\n",
       "            </tr>\n",
       "            <tr>\n",
       "                                <td id=\"T_45ed7227_45d6_11e9_8b96_f85971b87446row7_col0\" class=\"data row7 col0\" >4.39408e+06</td>\n",
       "                        <td id=\"T_45ed7227_45d6_11e9_8b96_f85971b87446row7_col1\" class=\"data row7 col1\" >25.7681</td>\n",
       "            </tr>\n",
       "            <tr>\n",
       "                                <td id=\"T_45ed7227_45d6_11e9_8b96_f85971b87446row8_col0\" class=\"data row8 col0\" >296705</td>\n",
       "                        <td id=\"T_45ed7227_45d6_11e9_8b96_f85971b87446row8_col1\" class=\"data row8 col1\" >24.8403</td>\n",
       "            </tr>\n",
       "            <tr>\n",
       "                                <td id=\"T_45ed7227_45d6_11e9_8b96_f85971b87446row9_col0\" class=\"data row9 col0\" >2.58937e+06</td>\n",
       "                        <td id=\"T_45ed7227_45d6_11e9_8b96_f85971b87446row9_col1\" class=\"data row9 col1\" >21.6818</td>\n",
       "            </tr>\n",
       "    </tbody></table><style  type=\"text/css\" >\n",
       "</style><table id=\"T_45ed7228_45d6_11e9_8b96_f85971b87446\" style='display:inline'><caption>2009</caption><thead>    <tr>        <th class=\"col_heading level0 col0\" >SONELAHs</th>        <th class=\"col_heading level0 col1\" >Percentage</th>    </tr></thead><tbody>\n",
       "                <tr>\n",
       "                                <td id=\"T_45ed7228_45d6_11e9_8b96_f85971b87446row0_col0\" class=\"data row0 col0\" >15348831</td>\n",
       "                        <td id=\"T_45ed7228_45d6_11e9_8b96_f85971b87446row0_col1\" class=\"data row0 col1\" >43.6897</td>\n",
       "            </tr>\n",
       "            <tr>\n",
       "                                <td id=\"T_45ed7228_45d6_11e9_8b96_f85971b87446row1_col0\" class=\"data row1 col0\" >695931</td>\n",
       "                        <td id=\"T_45ed7228_45d6_11e9_8b96_f85971b87446row1_col1\" class=\"data row1 col1\" >36.0928</td>\n",
       "            </tr>\n",
       "            <tr>\n",
       "                                <td id=\"T_45ed7228_45d6_11e9_8b96_f85971b87446row2_col0\" class=\"data row2 col0\" >8233251</td>\n",
       "                        <td id=\"T_45ed7228_45d6_11e9_8b96_f85971b87446row2_col1\" class=\"data row2 col1\" >34.733</td>\n",
       "            </tr>\n",
       "            <tr>\n",
       "                                <td id=\"T_45ed7228_45d6_11e9_8b96_f85971b87446row3_col0\" class=\"data row3 col0\" >2489641</td>\n",
       "                        <td id=\"T_45ed7228_45d6_11e9_8b96_f85971b87446row3_col1\" class=\"data row3 col1\" >30.0156</td>\n",
       "            </tr>\n",
       "            <tr>\n",
       "                                <td id=\"T_45ed7228_45d6_11e9_8b96_f85971b87446row4_col0\" class=\"data row4 col0\" >5487050</td>\n",
       "                        <td id=\"T_45ed7228_45d6_11e9_8b96_f85971b87446row4_col1\" class=\"data row4 col1\" >29.9471</td>\n",
       "            </tr>\n",
       "            <tr>\n",
       "                                <td id=\"T_45ed7228_45d6_11e9_8b96_f85971b87446row5_col0\" class=\"data row5 col0\" >747387</td>\n",
       "                        <td id=\"T_45ed7228_45d6_11e9_8b96_f85971b87446row5_col1\" class=\"data row5 col1\" >29.3493</td>\n",
       "            </tr>\n",
       "            <tr>\n",
       "                                <td id=\"T_45ed7228_45d6_11e9_8b96_f85971b87446row6_col0\" class=\"data row6 col0\" >4944791</td>\n",
       "                        <td id=\"T_45ed7228_45d6_11e9_8b96_f85971b87446row6_col1\" class=\"data row6 col1\" >27.4484</td>\n",
       "            </tr>\n",
       "            <tr>\n",
       "                                <td id=\"T_45ed7228_45d6_11e9_8b96_f85971b87446row7_col0\" class=\"data row7 col0\" >1616190</td>\n",
       "                        <td id=\"T_45ed7228_45d6_11e9_8b96_f85971b87446row7_col1\" class=\"data row7 col1\" >26.7885</td>\n",
       "            </tr>\n",
       "            <tr>\n",
       "                                <td id=\"T_45ed7228_45d6_11e9_8b96_f85971b87446row8_col0\" class=\"data row8 col0\" >326893</td>\n",
       "                        <td id=\"T_45ed7228_45d6_11e9_8b96_f85971b87446row8_col1\" class=\"data row8 col1\" >25.3981</td>\n",
       "            </tr>\n",
       "            <tr>\n",
       "                                <td id=\"T_45ed7228_45d6_11e9_8b96_f85971b87446row9_col0\" class=\"data row9 col0\" >2684946</td>\n",
       "                        <td id=\"T_45ed7228_45d6_11e9_8b96_f85971b87446row9_col1\" class=\"data row9 col1\" >22.3229</td>\n",
       "            </tr>\n",
       "    </tbody></table>"
      ]
     },
     "metadata": {},
     "output_type": "display_data"
    }
   ],
   "source": [
    "\n",
    "createTemporalTable(df2000, df2006, df2009)"
   ]
  },
  {
   "cell_type": "markdown",
   "metadata": {},
   "source": [
    "We see that California always has the number of SONELAHs. We infer that this is because California is state that belonged to Mexico, is a coastal state and contains many large cities. California belonging to Mexico means that there possibly is a higher percentage of Spanish speakers. California being a coastal state that contains many large cities means that it has a lot of places that are practically for an immigrant to come to when immigrating. <br>\n",
    "We also see that a lot of states on this list fluctuate in their rank. For example, New Mexico is 9th in 2000, but 2nd in the 2006-2008 period and the 2009-20013 period."
   ]
  },
  {
   "cell_type": "markdown",
   "metadata": {},
   "source": [
    "In order to see the fluctations in rank of some of the states on our top ten chart, we will plot the PMFs of SONELAHs by state per year. "
   ]
  },
  {
   "cell_type": "code",
   "execution_count": 18,
   "metadata": {},
   "outputs": [
    {
     "data": {
      "image/png": "[encoded data removed]",
      "text/plain": [
       "<Figure size 1440x1080 with 2 Axes>"
      ]
     },
     "metadata": {},
     "output_type": "display_data"
    }
   ],
   "source": [
    "\n",
    "fig, (ax1,ax2) = plt.subplots(2,1, figsize=(20,15), sharey=True)  # 1 row, 2 columns\n",
    "plotPMFs(df2006, ax=ax1)\n",
    "plotPMFs(df2009, ax=ax2)\n",
    "ax1.set_title('PMF of SONELAHs by State', fontsize=30)\n",
    "ax2.set_xlabel('State', fontsize=20)\n",
    "plt.setp(ax1.get_xticklabels(), rotation=45)\n",
    "ax1.tick_params(axis='both', which='major', labelsize=20)\n",
    "plt.tight_layout() "
   ]
  },
  {
   "cell_type": "markdown",
   "metadata": {},
   "source": [
    "** Resolve DC\n",
    "We see that throughout these three time periods, the shape of distribution and the magnitude of the percentages are relatively the same. We do see that the order of the distribution changes, however. California is first all years, but the other states shift position. New Jersey, for example, has a lower percentage of SONELAHs in the first time period, which increases in the second time period. In the last time period, New Jersey has the fourth highest percentage of SONELAHs.\n",
    "\n",
    "</p>\n",
    "States with large cities, coastal states and Southwestern states have more SONELAHs. This makes sense because Southwestern states were part of a region of Mexico, and have Latin heritage. Also, coastal states and states with large cities are attractive places for immigrants to live, because of the \n",
    "From these graphs, we also see the distribution at the lower end of the spectrum."
   ]
  },
  {
   "cell_type": "markdown",
   "metadata": {},
   "source": [
    "## County-Wide Analysis\n",
    "\n",
    "From analyzing linguistic diversity at the state level, we wanted to explore states with very high and very low percentages of SONELAHs more closely. We did this to test whether states which have high percentages of SONELAHs have spread out or concentrated linguistic diversity. We also wanted to see if this same fluctation over time we saw in the state level applied to the county level. "
   ]
  },
  {
   "cell_type": "markdown",
   "metadata": {},
   "source": [
    "##### Functions\n",
    "First, we will create functions which will help us analyze and graph the data."
   ]
  },
  {
   "cell_type": "code",
   "execution_count": 73,
   "metadata": {},
   "outputs": [],
   "source": [
    "def createCountyNames(state):\n",
    "    \"\"\"\n",
    "    Takes in a state. Returns a list of \n",
    "    counties in that state in the 2009-2013 period without the state abbreviation attached to it    \n",
    "    \n",
    "    state - state given [\"stateabbreviation\"], ie [\"CA\"]\n",
    "    \"\"\"\n",
    "    countyNames = pd.Series()\n",
    "    i=0\n",
    "    x1 = pd.ExcelFile(\"/home/jobanner/The-Mother-Tongue-of-US-Communities/raw_data/LanguageSpokenatHome_County_2009-2013.xls\")\n",
    "    sheetnames = x1.sheet_names\n",
    "    for sheet in sheetnames:\n",
    "        if any(x in sheet for x in state):\n",
    "            df = pd.read_excel(\"/home/jobanner/The-Mother-Tongue-of-US-Communities/raw_data/LanguageSpokenatHome_County_2009-2013.xls\",sheet, skiprows=[0,1,2,3]).dropna()\n",
    "            countyNames.set_value(i, sheet[:len(sheet)-4])\n",
    "            i+=1\n",
    "    return countyNames"
   ]
  },
  {
   "cell_type": "code",
   "execution_count": 74,
   "metadata": {
    "collapsed": true
   },
   "outputs": [],
   "source": [
    "def createStateDataFrame2000(state):\n",
    "    \"\"\"\n",
    "    Takes in a state and returns a dataframe containing the counties and the \n",
    "    number of SONELAHs and EOS per county from 2000\n",
    "    \n",
    "    state - state given \"stateabbreviation\", ie \"CA\"\n",
    "    \"\"\"\n",
    "    counties = createCountyNames(state)#list of counties\n",
    "    lang=[\"English Only\",\"SONELAHs\",\"SPANISH AND SPANISH CREOLE\",'German, Scandinavian, Italian',\"ASIAN AND PACIFIC ISLAND LANGUAGES\",'Native North American']\n",
    "    df=pd.DataFrame(index=lang,columns=counties)\n",
    "    parsetest =  pd.read_excel(\"/home/jobanner/The-Mother-Tongue-of-US-Communities/raw_data/LanguageSpokenatHome_2000.xlsx\", state, skiprows=[0,1,2,3]).dropna()\n",
    "    for county in counties: \n",
    "        eng=parsetest[(parsetest[\"Area Name (State or County)\"]==county)& (parsetest[\"Census Tract Code\"]==0) & (parsetest[\"Language Code\"]==0)]\n",
    "        sonnie=parsetest[(parsetest[\"Area Name (State or County)\"]==county)& (parsetest[\"Census Tract Code\"]==0) &(parsetest[\"Language Code\"]!=0)]\n",
    "        esp=parsetest[(parsetest[\"Area Name (State or County)\"]==county) & (parsetest[\"Census Tract Code\"]==0) &((parsetest[\"Language Code\"]==627) | (parsetest[\"Language Code\"]==625) | (parsetest[\"Language Code\"]==628))]\n",
    "        europe=parsetest[(parsetest[\"Area Name (State or County)\"]==county) & (parsetest[\"Census Tract Code\"]==0) &((parsetest[\"Language Code\"]==607) | (parsetest[\"Language Code\"]>=614) & (parsetest[\"Language Code\"]<=619))]\n",
    "        asian=parsetest[(parsetest[\"Area Name (State or County)\"]==county) & (parsetest[\"Census Tract Code\"]==0) &((parsetest[\"Language Code\"]<=695) & (parsetest[\"Language Code\"]>=684) | (parsetest[\"Language Code\"]<=771) & (parsetest[\"Language Code\"]>=698))]\n",
    "        native=parsetest[(parsetest[\"Area Name (State or County)\"]==county) & (parsetest[\"Census Tract Code\"]==0) &((parsetest[\"Language Code\"]<=955) & (parsetest[\"Language Code\"]>=800) | (parsetest[\"Language Code\"]<=966) & (parsetest[\"Language Code\"]>=959)| (parsetest[\"Language Code\"]<=982) & (parsetest[\"Language Code\"]>=977))]\n",
    "        langArray=[sum(eng[\"Number of speakers\"]),sum(sonnie[\"Number of speakers\"]),sum(esp[\"Number of speakers\"]),sum(europe[\"Number of speakers\"]),sum(asian[\"Number of speakers\"]),sum(native[\"Number of speakers\"])]\n",
    "        df[county]=langArray\n",
    "    return df"
   ]
  },
  {
   "cell_type": "code",
   "execution_count": 75,
   "metadata": {},
   "outputs": [
    {
     "name": "stderr",
     "output_type": "stream",
     "text": [
      "/home/jobanner/anaconda3/lib/python3.6/site-packages/ipykernel_launcher.py:15: FutureWarning: set_value is deprecated and will be removed in a future release. Please use .at[] or .iat[] accessors instead\n",
      "  from ipykernel import kernelapp as app\n"
     ]
    },
    {
     "data": {
      "text/plain": [
       "0     Anchorage Municipality\n",
       "1            Maricopa County\n",
       "2              Navajo County\n",
       "3                Pima County\n",
       "4             Alameda County\n",
       "5        Contra Costa County\n",
       "6              Fresno County\n",
       "7                Kern County\n",
       "8         Los Angeles County\n",
       "9            Monterey County\n",
       "10             Orange County\n",
       "11             Placer County\n",
       "12          Riverside County\n",
       "13         Sacramento County\n",
       "14     San Bernardino County\n",
       "15          San Diego County\n",
       "16      San Francisco County\n",
       "17        San Joaquin County\n",
       "18          San Mateo County\n",
       "19      Santa Barbara County\n",
       "20        Santa Clara County\n",
       "21             Solano County\n",
       "22             Sonoma County\n",
       "23         Stanislaus County\n",
       "24            Ventura County\n",
       "25               Yolo County\n",
       "26           Arapahoe County\n",
       "27            El Paso County\n",
       "28         Palm Beach County\n",
       "29           Pinellas County\n",
       "               ...          \n",
       "38    Prince George s County\n",
       "39            Bristol County\n",
       "40              Essex County\n",
       "41            Hampden County\n",
       "42          Middlesex County\n",
       "43            Norfolk County\n",
       "44           Plymouth County\n",
       "45            Suffolk County\n",
       "46          Worcester County\n",
       "47           Atlantic County\n",
       "48            Passaic County\n",
       "49             Albany County\n",
       "50          Allegheny County\n",
       "51              Bucks County\n",
       "52            Chester County\n",
       "53           Delaware County\n",
       "54          Lancaster County\n",
       "55         Montgomery County\n",
       "56       Philadelphia County\n",
       "57         Providence County\n",
       "58          Arlington County\n",
       "59            Fairfax County\n",
       "60            Henrico County\n",
       "61            Loudoun County\n",
       "62     Prince William County\n",
       "63       Virginia Beach city\n",
       "64              Clark County\n",
       "65               King County\n",
       "66             Pierce County\n",
       "67          Snohomish County\n",
       "Length: 68, dtype: object"
      ]
     },
     "execution_count": 75,
     "metadata": {},
     "output_type": "execute_result"
    }
   ],
   "source": [
    "fd=createCountyNames(\"PA\")\n",
    "fd"
   ]
  },
  {
   "cell_type": "markdown",
   "metadata": {},
   "source": [
    "This function takes in a given state, an empty list for counties and an empty list for SONELAHs per county. It returns the information about the desired state's counties and SONELAHs in them into the empty lists."
   ]
  },
  {
   "cell_type": "code",
   "execution_count": 43,
   "metadata": {
    "collapsed": true
   },
   "outputs": [],
   "source": [
    "def createStateDataFrame2009(state):\n",
    "    \"\"\"\n",
    "    Takes a state and returns the counties and the number of SONELAHS per county in the 2009-2013 period. \n",
    "    \n",
    "    Takes:\n",
    "    state - state you wish to look at, given as ex: [\"AZ\"]\n",
    "    \n",
    "    Returns:\n",
    "    df - contains counties, number of EOS per county and number of SONELAHs per county\n",
    "\n",
    "    \"\"\"\n",
    "    countyList = pd.Series()\n",
    "    SONELAHNumbers = pd.Series()\n",
    "    EOSNumbers = pd.Series()\n",
    "    i=0\n",
    "    x1 = pd.ExcelFile(\"/home/jobanner/The-Mother-Tongue-of-US-Communities/raw_data/LanguageSpokenatHome_County_2009-2013.xls\"\n",
    "    i=0)\n",
    "    sheetnames = x1.sheet_names #Extract the County Names from the Excel Sheet Names\n",
    "    for sheet in sheetnames:\n",
    "        if any(x in sheet for x in state):\n",
    "            df = pd.read_excel(txtfile2009,sheet, skiprows=[0,1,2,3]).dropna()\n",
    "            SONELAHNumbers.set_value(i,df[\"Number of speakers1\"][2]) #Append to list of SONELAHS per county from the desired state\n",
    "            countyList.set_value(i, sheet) #Append to list of counties from the desired state\n",
    "            EOSNumbers.set_value(i,df[\"Number of speakers1\"][1]) #Append to list of EOS per county from the desired state\n",
    "            i+=1\n",
    "    df = pd.DataFrame({\"County\":countyList, \"SONELAHs\":SONELAHNumbers, \"EOS\": EOSNumbers})\n",
    "    return df"
   ]
  },
  {
   "cell_type": "code",
   "execution_count": 44,
   "metadata": {
    "collapsed": true
   },
   "outputs": [],
   "source": [
    "def plotCounty(state):\n",
    "    \"\"\"\n",
    "    Takes in the name of a state. The function will find the value of\n",
    "    SONELAHS for the state in the 2000's and and the two Dataframes  \n",
    "    which createCountySeries filled\n",
    "    Plots the number of of SONELAHs by county\n",
    "    \n",
    "    state - the state you wish to look at, given as ex: \"AZ\"\n",
    "    \"\"\"\n",
    "    dft1= createStateDataFrame2000(state)\n",
    "    dft1=dft1.sort_values(by=\"SONELAHs\")\n",
    "    print(dft1)\n",
    "    dft2=createStateDataFrame2009([state])\n",
    "    dft2=dft2.sort_values(by=\"SONELAHs\")\n",
    "    print(dft2)\n",
    "    ax=plt.subplot(111)\n",
    "    i=0\n",
    "    for SONELAH1,SONELAH2 in zip(dft1[\"SONELAHs\"],dft2[\"SONELAHs\"]): \n",
    "        ax.bar(i-0.2,SONELAH1,width=0.4,color='b',align='center')\n",
    "        ax.bar(i+0.2,SONELAH2,width=0.4,color='g',align='center')\n",
    "        plt.autoscale(enable=True)\n",
    "        plt.xticks(range(0,len(dft1)), dft1[\"County\"],  rotation=90)\n",
    "        plt.title(\"SONELAHs in \"+str(statename)+\" by County\")\n",
    "        plt.xlabel(\"County\")\n",
    "        plt.ylabel(\"Number of SONELAHs\")\n",
    "        i+=1\n",
    "        ax.legend([\"2000\",\"2009-2013\"])"
   ]
  },
  {
   "cell_type": "code",
   "execution_count": 45,
   "metadata": {},
   "outputs": [
    {
     "ename": "ValueError",
     "evalue": "Length mismatch: Expected axis has 0 elements, new values have 51 elements",
     "output_type": "error",
     "traceback": [
      "\u001b[0;31m---------------------------------------------------------------------------\u001b[0m",
      "\u001b[0;31mValueError\u001b[0m                                Traceback (most recent call last)",
      "\u001b[0;32m<ipython-input-45-0614ccb4eaa5>\u001b[0m in \u001b[0;36m<module>\u001b[0;34m()\u001b[0m\n\u001b[0;32m----> 1\u001b[0;31m \u001b[0mplotCounty\u001b[0m\u001b[0;34m(\u001b[0m\u001b[0;34m\"CA\"\u001b[0m\u001b[0;34m)\u001b[0m\u001b[0;34m\u001b[0m\u001b[0m\n\u001b[0m",
      "\u001b[0;32m<ipython-input-44-ae1c0da3024a>\u001b[0m in \u001b[0;36mplotCounty\u001b[0;34m(state)\u001b[0m\n\u001b[1;32m      8\u001b[0m     \u001b[0mstate\u001b[0m \u001b[0;34m-\u001b[0m \u001b[0mthe\u001b[0m \u001b[0mstate\u001b[0m \u001b[0myou\u001b[0m \u001b[0mwish\u001b[0m \u001b[0mto\u001b[0m \u001b[0mlook\u001b[0m \u001b[0mat\u001b[0m\u001b[0;34m,\u001b[0m \u001b[0mgiven\u001b[0m \u001b[0;32mas\u001b[0m \u001b[0mex\u001b[0m\u001b[0;34m:\u001b[0m \u001b[0;34m\"AZ\"\u001b[0m\u001b[0;34m\u001b[0m\u001b[0m\n\u001b[1;32m      9\u001b[0m     \"\"\"\n\u001b[0;32m---> 10\u001b[0;31m     \u001b[0mdft1\u001b[0m\u001b[0;34m=\u001b[0m \u001b[0mcreateStateDataFrame2000\u001b[0m\u001b[0;34m(\u001b[0m\u001b[0mstate\u001b[0m\u001b[0;34m)\u001b[0m\u001b[0;34m\u001b[0m\u001b[0m\n\u001b[0m\u001b[1;32m     11\u001b[0m     \u001b[0mdft1\u001b[0m\u001b[0;34m=\u001b[0m\u001b[0mdft1\u001b[0m\u001b[0;34m.\u001b[0m\u001b[0msort_values\u001b[0m\u001b[0;34m(\u001b[0m\u001b[0mby\u001b[0m\u001b[0;34m=\u001b[0m\u001b[0;34m\"SONELAHs\"\u001b[0m\u001b[0;34m)\u001b[0m\u001b[0;34m\u001b[0m\u001b[0m\n\u001b[1;32m     12\u001b[0m     \u001b[0mprint\u001b[0m\u001b[0;34m(\u001b[0m\u001b[0mdft1\u001b[0m\u001b[0;34m)\u001b[0m\u001b[0;34m\u001b[0m\u001b[0m\n",
      "\u001b[0;32m<ipython-input-42-5e01effe8cec>\u001b[0m in \u001b[0;36mcreateStateDataFrame2000\u001b[0;34m(state)\u001b[0m\n\u001b[1;32m     20\u001b[0m         \u001b[0mdf\u001b[0m\u001b[0;34m[\u001b[0m\u001b[0mcounty\u001b[0m\u001b[0;34m]\u001b[0m\u001b[0;34m=\u001b[0m\u001b[0mlangArray\u001b[0m\u001b[0;34m\u001b[0m\u001b[0m\n\u001b[1;32m     21\u001b[0m     \u001b[0mdf\u001b[0m\u001b[0;34m=\u001b[0m\u001b[0mdf\u001b[0m\u001b[0;34m.\u001b[0m\u001b[0mT\u001b[0m\u001b[0;34m\u001b[0m\u001b[0m\n\u001b[0;32m---> 22\u001b[0;31m     \u001b[0mdf\u001b[0m\u001b[0;34m=\u001b[0m\u001b[0mdf\u001b[0m\u001b[0;34m.\u001b[0m\u001b[0mset_index\u001b[0m\u001b[0;34m(\u001b[0m\u001b[0mpd\u001b[0m\u001b[0;34m.\u001b[0m\u001b[0mIndex\u001b[0m\u001b[0;34m(\u001b[0m\u001b[0mrange\u001b[0m\u001b[0;34m(\u001b[0m\u001b[0;36m0\u001b[0m\u001b[0;34m,\u001b[0m\u001b[0;36m51\u001b[0m\u001b[0;34m)\u001b[0m\u001b[0;34m)\u001b[0m\u001b[0;34m)\u001b[0m\u001b[0;34m\u001b[0m\u001b[0m\n\u001b[0m\u001b[1;32m     23\u001b[0m     \u001b[0mdf\u001b[0m\u001b[0;34m=\u001b[0m\u001b[0mdf\u001b[0m\u001b[0;34m.\u001b[0m\u001b[0mrename\u001b[0m\u001b[0;34m(\u001b[0m\u001b[0mcolumns\u001b[0m\u001b[0;34m=\u001b[0m\u001b[0;34m{\u001b[0m\u001b[0;36m0\u001b[0m\u001b[0;34m:\u001b[0m\u001b[0;34m\"English Speakers\"\u001b[0m\u001b[0;34m,\u001b[0m\u001b[0;36m1\u001b[0m\u001b[0;34m:\u001b[0m\u001b[0;34m\"SONELAHs\"\u001b[0m\u001b[0;34m}\u001b[0m\u001b[0;34m)\u001b[0m\u001b[0;34m\u001b[0m\u001b[0m\n\u001b[1;32m     24\u001b[0m     \u001b[0;32mreturn\u001b[0m \u001b[0mdf\u001b[0m\u001b[0;34m\u001b[0m\u001b[0m\n",
      "\u001b[0;32m~/anaconda3/lib/python3.6/site-packages/pandas/core/frame.py\u001b[0m in \u001b[0;36mset_index\u001b[0;34m(self, keys, drop, append, inplace, verify_integrity)\u001b[0m\n\u001b[1;32m   4196\u001b[0m         \u001b[0mindex\u001b[0m\u001b[0;34m.\u001b[0m\u001b[0m_cleanup\u001b[0m\u001b[0;34m(\u001b[0m\u001b[0;34m)\u001b[0m\u001b[0;34m\u001b[0m\u001b[0m\n\u001b[1;32m   4197\u001b[0m \u001b[0;34m\u001b[0m\u001b[0m\n\u001b[0;32m-> 4198\u001b[0;31m         \u001b[0mframe\u001b[0m\u001b[0;34m.\u001b[0m\u001b[0mindex\u001b[0m \u001b[0;34m=\u001b[0m \u001b[0mindex\u001b[0m\u001b[0;34m\u001b[0m\u001b[0m\n\u001b[0m\u001b[1;32m   4199\u001b[0m \u001b[0;34m\u001b[0m\u001b[0m\n\u001b[1;32m   4200\u001b[0m         \u001b[0;32mif\u001b[0m \u001b[0;32mnot\u001b[0m \u001b[0minplace\u001b[0m\u001b[0;34m:\u001b[0m\u001b[0;34m\u001b[0m\u001b[0m\n",
      "\u001b[0;32m~/anaconda3/lib/python3.6/site-packages/pandas/core/generic.py\u001b[0m in \u001b[0;36m__setattr__\u001b[0;34m(self, name, value)\u001b[0m\n\u001b[1;32m   5078\u001b[0m         \u001b[0;32mtry\u001b[0m\u001b[0;34m:\u001b[0m\u001b[0;34m\u001b[0m\u001b[0m\n\u001b[1;32m   5079\u001b[0m             \u001b[0mobject\u001b[0m\u001b[0;34m.\u001b[0m\u001b[0m__getattribute__\u001b[0m\u001b[0;34m(\u001b[0m\u001b[0mself\u001b[0m\u001b[0;34m,\u001b[0m \u001b[0mname\u001b[0m\u001b[0;34m)\u001b[0m\u001b[0;34m\u001b[0m\u001b[0m\n\u001b[0;32m-> 5080\u001b[0;31m             \u001b[0;32mreturn\u001b[0m \u001b[0mobject\u001b[0m\u001b[0;34m.\u001b[0m\u001b[0m__setattr__\u001b[0m\u001b[0;34m(\u001b[0m\u001b[0mself\u001b[0m\u001b[0;34m,\u001b[0m \u001b[0mname\u001b[0m\u001b[0;34m,\u001b[0m \u001b[0mvalue\u001b[0m\u001b[0;34m)\u001b[0m\u001b[0;34m\u001b[0m\u001b[0m\n\u001b[0m\u001b[1;32m   5081\u001b[0m         \u001b[0;32mexcept\u001b[0m \u001b[0mAttributeError\u001b[0m\u001b[0;34m:\u001b[0m\u001b[0;34m\u001b[0m\u001b[0m\n\u001b[1;32m   5082\u001b[0m             \u001b[0;32mpass\u001b[0m\u001b[0;34m\u001b[0m\u001b[0m\n",
      "\u001b[0;32mpandas/_libs/properties.pyx\u001b[0m in \u001b[0;36mpandas._libs.properties.AxisProperty.__set__\u001b[0;34m()\u001b[0m\n",
      "\u001b[0;32m~/anaconda3/lib/python3.6/site-packages/pandas/core/generic.py\u001b[0m in \u001b[0;36m_set_axis\u001b[0;34m(self, axis, labels)\u001b[0m\n\u001b[1;32m    636\u001b[0m \u001b[0;34m\u001b[0m\u001b[0m\n\u001b[1;32m    637\u001b[0m     \u001b[0;32mdef\u001b[0m \u001b[0m_set_axis\u001b[0m\u001b[0;34m(\u001b[0m\u001b[0mself\u001b[0m\u001b[0;34m,\u001b[0m \u001b[0maxis\u001b[0m\u001b[0;34m,\u001b[0m \u001b[0mlabels\u001b[0m\u001b[0;34m)\u001b[0m\u001b[0;34m:\u001b[0m\u001b[0;34m\u001b[0m\u001b[0m\n\u001b[0;32m--> 638\u001b[0;31m         \u001b[0mself\u001b[0m\u001b[0;34m.\u001b[0m\u001b[0m_data\u001b[0m\u001b[0;34m.\u001b[0m\u001b[0mset_axis\u001b[0m\u001b[0;34m(\u001b[0m\u001b[0maxis\u001b[0m\u001b[0;34m,\u001b[0m \u001b[0mlabels\u001b[0m\u001b[0;34m)\u001b[0m\u001b[0;34m\u001b[0m\u001b[0m\n\u001b[0m\u001b[1;32m    639\u001b[0m         \u001b[0mself\u001b[0m\u001b[0;34m.\u001b[0m\u001b[0m_clear_item_cache\u001b[0m\u001b[0;34m(\u001b[0m\u001b[0;34m)\u001b[0m\u001b[0;34m\u001b[0m\u001b[0m\n\u001b[1;32m    640\u001b[0m \u001b[0;34m\u001b[0m\u001b[0m\n",
      "\u001b[0;32m~/anaconda3/lib/python3.6/site-packages/pandas/core/internals/managers.py\u001b[0m in \u001b[0;36mset_axis\u001b[0;34m(self, axis, new_labels)\u001b[0m\n\u001b[1;32m    153\u001b[0m             raise ValueError(\n\u001b[1;32m    154\u001b[0m                 \u001b[0;34m'Length mismatch: Expected axis has {old} elements, new '\u001b[0m\u001b[0;34m\u001b[0m\u001b[0m\n\u001b[0;32m--> 155\u001b[0;31m                 'values have {new} elements'.format(old=old_len, new=new_len))\n\u001b[0m\u001b[1;32m    156\u001b[0m \u001b[0;34m\u001b[0m\u001b[0m\n\u001b[1;32m    157\u001b[0m         \u001b[0mself\u001b[0m\u001b[0;34m.\u001b[0m\u001b[0maxes\u001b[0m\u001b[0;34m[\u001b[0m\u001b[0maxis\u001b[0m\u001b[0;34m]\u001b[0m \u001b[0;34m=\u001b[0m \u001b[0mnew_labels\u001b[0m\u001b[0;34m\u001b[0m\u001b[0m\n",
      "\u001b[0;31mValueError\u001b[0m: Length mismatch: Expected axis has 0 elements, new values have 51 elements"
     ]
    }
   ],
   "source": [
    "plotCounty(\"CA\")"
   ]
  },
  {
   "cell_type": "code",
   "execution_count": 29,
   "metadata": {
    "collapsed": true
   },
   "outputs": [],
   "source": [
    "def plotCountyPMF(statename,df1,df2,color):\n",
    "    \"\"\"\n",
    "    Takes in the name of a state, and the two series which createCountySeries filled\n",
    "    Plots the PMF of SONELAHs by county\n",
    "    \"\"\"\n",
    "    dft1=df1\n",
    "    dft1[\"norm\"] = dft1[\"SONELAHs\"]/(dft1[\"English Speakers\"] + dft1[\"SONELAHs\"])\n",
    "    dft1=dft1.sort_values(by=\"norm\")\n",
    "    dft2=df2\n",
    "    dft2[\"norm\"] = dft2[\"SONELAHs\"]/(dft2[\"English Speakers\"] + dft2[\"SONELAHs\"])\n",
    "    dft2=dft2.sort_values(by=\"norm\")\n",
    "    ax=plt.subplot(111)# Determines size of plot\n",
    "    i=0\n",
    "    for thing1,thing2 in zip(dft1[\"norm\"],dft2[\"norm\"]): \n",
    "        ax.bar(i-0.2,thing1,width=0.4,color='b',align='center')\n",
    "        ax.bar(i+0.2,thing2,width=0.4,color='g',align='center')\n",
    "        plt.autoscale(enable=True)\n",
    "        plt.xticks(range(0,len(dft1)), dft1[\"County\"],  rotation=90)\n",
    "        plt.title(\"Other Language Speakers in \"+str(statename)+\" by County\")\n",
    "        plt.xlabel(\"County\")\n",
    "        plt.ylabel(\"Number of Other Language Speakers\")\n",
    "        i+=1\n",
    "        ax.legend([\"2000\",\"2009-2013\"])"
   ]
  },
  {
   "cell_type": "markdown",
   "metadata": {},
   "source": [
    "Because California has been first on our three tables of states with the highest percentage of SONELAHs, we wanted to delve deeper into California's counties. We wanted to see if California's linguistic diversity is coming from one place, or if it's spread out. We also wanted to find out what percentage of SONELAHs in California are Spanish speakers."
   ]
  },
  {
   "cell_type": "code",
   "execution_count": null,
   "metadata": {
    "collapsed": true
   },
   "outputs": [],
   "source": []
  }
 ],
 "metadata": {
  "kernelspec": {
   "display_name": "Python 3",
   "language": "python",
   "name": "python3"
  },
  "language_info": {
   "codemirror_mode": {
    "name": "ipython",
    "version": 3
   },
   "file_extension": ".py",
   "mimetype": "text/x-python",
   "name": "python",
   "nbconvert_exporter": "python",
   "pygments_lexer": "ipython3",
   "version": "3.6.3"
  }
 },
 "nbformat": 4,
 "nbformat_minor": 2
}
