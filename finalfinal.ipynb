{
 "cells": [
  {
   "cell_type": "markdown",
   "metadata": {},
   "source": [
    "# Analyzing Cultural Diversity through Census Data of Language Spoken at Home\n",
    "\n",
    "By Jordan Crawford-O'Banner and Alli Busa"
   ]
  },
  {
   "cell_type": "markdown",
   "metadata": {},
   "source": [
    "In the news, we've heard that diversity has increased in the United States. While the Census has praised the U.S. for becoming overall more racial and ethnically diverse, FOX newscaster Tucker Carlson has claimed that the rise of immigrants in the U.S. is not happening in \"politicians' neighborhoods\". (See Project Proposal)\n",
    "\n",
    "We wanted to take these two clashing statements and put them both to the test. Has cultural diversity, measured through linguistic diversity, increased significantly in the past few years? How is cultural diversity, through linguistic diversity, spread out throughout the U.S.? Are regions with high ratios of non-English speakers actually linguistically diverse or homogenuously consisting of a non-English speaking community? "
   ]
  },
  {
   "cell_type": "markdown",
   "metadata": {},
   "source": [
    "## Importing Necessary Packages and Setting Up Data Imports"
   ]
  },
  {
   "cell_type": "markdown",
   "metadata": {},
   "source": [
    "Importing necessary packages."
   ]
  },
  {
   "cell_type": "code",
   "execution_count": 85,
   "metadata": {},
   "outputs": [],
   "source": [
    "%matplotlib inline\n",
    "\n",
    "#Packages for Calculating\n",
    "import pandas as pd\n",
    "import numpy as np\n",
    "from thinkstats2 import Pmf, Cdf\n",
    "import thinkstats2\n",
    "\n",
    "#Packages for Plotting\n",
    "import matplotlib.pyplot as plt\n",
    "import seaborn as sns\n",
    "sns.set(style='white')\n",
    "import thinkplot\n",
    "from IPython.display import display_html, HTML"
   ]
  },
  {
   "cell_type": "markdown",
   "metadata": {},
   "source": [
    "The data that we will be analyzing for this project is the Census' datasets on language in the U.S., which is available to everyone for noncommercial use. Specifically, the data is the Census' processed responses to the questions,\"Does this person speak a language other than English at home?\" and \"What is this language?\". The Census is filled out by one family member for the whole household and the questions posed to the Census respondents are the questions in quotations above for the whole duration of our dataset. (see https://www.census.gov/topics/population/language-use/about/historical.html). Ideally, every household with a U.S. citizen should respond to the Census, because it is federal law to fill it out. We acknowledge however, that undocumented citizens, whose majority probabily would inform our language data, do not fill out the survey. Nonetheless, we trust the Census data to be valid, because it is federally governed. </p>\n",
    "We have three data sets from the Census. They contain a list of over 380 languages that Americans speak at home and the corresponding number of Americans who speak each language for 2000, the 2006 to 2008 period and the 2009 to 2013 period. \n",
    "In each of these periods, the way that the data was has been processed into excel documents has changed. For example, in the year 2000 data, the excel spreadsheets are states and contain data on the state as a whole and its counties. These two different variables are given in the same column. On the other hand, the 2006-2008 and 2009-2013 data, the counties data and states data are given in two separate excel files altogether. </br>\n",
    "There were some responses to lesser known languages that were omitted due to a very few number of respondents. We account for this issue while organizing our data set below. \n",
    "\n"
   ]
  },
  {
   "cell_type": "markdown",
   "metadata": {},
   "source": [
    "##### Creating Functions and Lists Used for Parsing"
   ]
  },
  {
   "cell_type": "markdown",
   "metadata": {},
   "source": [
    "In order to collect data from multiple Excel sheets more efficiently, we will create a list of state abbreviations and state names. This is important because the data that has been provided to us for 2006 and 2009 has separated the data for each state onto a different sheet within the excel file. We are creating two lists because some of our data's sheet names are state abbreviations and some are counties. "
   ]
  },
  {
   "cell_type": "code",
   "execution_count": 3,
   "metadata": {},
   "outputs": [],
   "source": [
    "#State abbreviations\n",
    "#Taken from https://gist.github.com/JeffPaine/3083347\n",
    "states = [\"AL\", \"AK\", \"AZ\", \"AR\", \"CA\", \"CO\", \"CT\", \"DE\", \"FL\", \"GA\", \n",
    "          \"HI\", \"ID\", \"IL\", \"IN\", \"IA\", \"KS\", \"KY\", \"LA\", \"ME\", \"MD\", \n",
    "          \"MA\", \"MI\", \"MN\", \"MS\", \"MO\", \"MT\", \"NE\", \"NV\", \"NH\", \"NJ\", \n",
    "          \"NM\", \"NY\", \"NC\", \"ND\", \"OH\", \"OK\", \"OR\", \"PA\", \"RI\", \"SC\", \n",
    "\"SD\", \"TN\", \"TX\", \"UT\", \"VT\", \"VA\", \"WA\", \"WV\", \"WI\", \"WY\"]\n",
    "\n",
    "#State names\n",
    "#Taken from https://gist.github.com/tleen/6299431\n",
    "statesfull=['Alabama','Alaska','Arizona','Arkansas','California','Colorado','Connecticut',\n",
    "           'Delaware','Florida','Georgia',\n",
    "            'Hawaii','Idaho','Illinois','Indiana','Iowa','Kansas','Kentucky','Louisiana','Maine',\n",
    "            'Maryland','Massachusetts','Michigan','Minnesota','Mississippi','Missouri','Montana','Nebraska',\n",
    "            'Nevada','New Hampshire','New Jersey','New Mexico','New York','North Carolina','North Dakota',\n",
    "            'Ohio','Oklahoma','Oregon','Pennsylvania',\n",
    "            'Rhode Island','South Carolina','South Dakota','Tennessee','Texas','Utah','Vermont',\n",
    "            'Virginia','Washington','West Virginia','Wisconsin','Wyoming']"
   ]
  },
  {
   "cell_type": "markdown",
   "metadata": {},
   "source": [
    "We will create a function called createSeries, which will allow us to create a Pandas Series from multiple sheets within an Excel file. "
   ]
  },
  {
   "cell_type": "code",
   "execution_count": 4,
   "metadata": {},
   "outputs": [],
   "source": [
    "def createSeries(emptySeries, arrayNames, textfileName, index, Column, skiprows=[0,1,2]):\n",
    "    \"\"\"\n",
    "    Makes a Series with specific language information from excel file. \n",
    "    It is used for organizing data on total English speakers and total non-English speakers.\n",
    "    \n",
    "    It takes in the name of an empty series, into which the data goes\n",
    "                arrayNames - this will be either states or statesfull, depending on how Excel sheets are organized\n",
    "                textfileName - the datafile\n",
    "                index - either 0 for total English speakers or 1 for total non-English speakers\n",
    "                Column - depending on the year, the column which contains the number of speakers is either given as \"Number of speakers\" or \"Number of speakers1\"\n",
    "                skiprows - the number of rows before the data begins changes based on Excel file. For the 2006-2008 data, it is [0,1,2], for the 2009-2013 data, it is [0,1,2,3]\n",
    "                \n",
    "    \"\"\"\n",
    "    i=0\n",
    "    for area in arrayNames:\n",
    "\n",
    "        df = pd.read_excel(textfileName, area, skiprows=skiprows).dropna()\n",
    "\n",
    "        #dictionary[area] = df.loc[dictionaryindex1:dictionaryindex1,Column]\n",
    "        emptySeries.set_value(i,df.loc[index, Column])\n",
    "        \n",
    "        i+=1\n",
    "    \n",
    "    #Clean Data\n",
    "    emptySeries.replace(['(X)', '--'], np.nan, inplace=True)\n",
    "    emptySeries.replace(['(B)'],0, inplace=True)\n",
    "    "
   ]
  },
  {
   "cell_type": "markdown",
   "metadata": {},
   "source": [
    "Note that this function also cleans the data. \n",
    "There are some entries which do not have numerical entries due to sampling error. For example, 'X' indicates that the question does not apply. \n",
    "We changed 'B' to 0, because those entries indicate that there were too few sample observations to compute an estimate, and we decided that 0 is more representative of that sampling error."
   ]
  },
  {
   "cell_type": "markdown",
   "metadata": {},
   "source": [
    "### Importing and Organizing Data"
   ]
  },
  {
   "cell_type": "markdown",
   "metadata": {},
   "source": [
    "We have decided to start by creating Series and Dataframes of Americans who speak English at home and Americans who speak another language at home. We will refer to former group of people as EOS, 'English Only Speakers', and to the latter group of people as SONELAHs, which stands for 'Speakers of non-English languages at Home'."
   ]
  },
  {
   "cell_type": "markdown",
   "metadata": {},
   "source": [
    "First, we will create a Series of English Speakers at home and SONELAHs as well as a Dataframe for the Census data from 2000. The Census data was formatted differently, so took a different approach to processing this data. We created functions which would parse the 2000 Census data and then create CSV files from it. These functions can be found in the Parse2000 Notebook in this repository."
   ]
  },
  {
   "cell_type": "code",
   "execution_count": 5,
   "metadata": {},
   "outputs": [],
   "source": [
    "#Creating Series\n",
    "eos2000 = pd.read_csv(\"/home/alli/The-Mother-Tongue-of-US-Communities/eng2000state.csv\").iloc[0]\n",
    "sonelah2000 = pd.read_csv(\"/home/alli/The-Mother-Tongue-of-US-Communities/other2000state.csv\").iloc[0]\n",
    "\n",
    "#Cleaning Dataset\n",
    "eos2000[\"DC\"]=  np.nan\n",
    "sonelah2000[\"DC\"]= np.nan\n",
    "\n",
    "#Creating Dataframe\n",
    "df2000=pd.DataFrame({\"States\": states,\"EOS\":eos2000[:50],\"SONELAHs\":sonelah2000[:50]})\n"
   ]
  },
  {
   "cell_type": "markdown",
   "metadata": {},
   "source": [
    "Notice that we set the DC values to nan. We did this because the DC data for this file has language multiple times with no distinction, making it hard to parse. We suppose that this is because DC is separated into counties, but those counties weren't listed. In order to acommodate for this, we took DC data out of all the datasets by not including it states list."
   ]
  },
  {
   "cell_type": "markdown",
   "metadata": {},
   "source": [
    "Next, we will create the same Series and Dataframe for the 2006 data. The 2006 data is organized in multiple sheets, which are given by the state abbreviation."
   ]
  },
  {
   "cell_type": "code",
   "execution_count": 6,
   "metadata": {},
   "outputs": [
    {
     "name": "stderr",
     "output_type": "stream",
     "text": [
      "/home/alli/.local/lib/python3.5/site-packages/ipykernel_launcher.py:20: FutureWarning: set_value is deprecated and will be removed in a future release. Please use .at[] or .iat[] accessors instead\n"
     ]
    }
   ],
   "source": [
    "#Creating Empty Series\n",
    "eos2006=pd.Series()\n",
    "sonelah2006=pd.Series()\n",
    "#Referencing Textfile\n",
    "txtfile2006 = \"/home/alli/The-Mother-Tongue-of-US-Communities/raw_data/DetailedLanguageSpoken_State_20062008.xls\"\n",
    "\n",
    "#Creating Series\n",
    "createSeries(eos2006, states, txtfile2006, 1,\"Number of speakers\", skiprows=[0,1,2])\n",
    "createSeries(sonelah2006, states, txtfile2006, 2,\"Number of speakers\", skiprows=[0,1,2])\n",
    "\n",
    "#Creating Dataframe\n",
    "df2006=pd.DataFrame({\"States\": states,\"EOS\":eos2006,\"SONELAHs\":sonelah2006})"
   ]
  },
  {
   "cell_type": "markdown",
   "metadata": {},
   "source": [
    "Lastly, we will create the same Series and Dataframe for the 2009 data. The 2009 data is organized in multiple sheets, which are given by the full state names. This data is also parsed differently, because the column name which belongs to the column that provides number of speakers is given as \"Number of speakers1\" instead of \"Number of speakers\". Also, in this Excel file, the parser needs to skip the first four rows, instead of the first three (initialized at 0)."
   ]
  },
  {
   "cell_type": "code",
   "execution_count": 7,
   "metadata": {},
   "outputs": [
    {
     "name": "stderr",
     "output_type": "stream",
     "text": [
      "/home/alli/.local/lib/python3.5/site-packages/ipykernel_launcher.py:20: FutureWarning: set_value is deprecated and will be removed in a future release. Please use .at[] or .iat[] accessors instead\n"
     ]
    }
   ],
   "source": [
    "#Creating Empty Series\n",
    "eos2009=pd.Series()\n",
    "sonelah2009=pd.Series()\n",
    "#Referencing Textfile\n",
    "txtfile2009 =  \"/home/alli/The-Mother-Tongue-of-US-Communities/raw_data/LanguageSpokenatHome_State_2009-2013.xls\"\n",
    "\n",
    "#Creating Series\n",
    "createSeries(eos2009, statesfull, txtfile2009, 1,\"Number of speakers1\", skiprows=[0,1,2,3])\n",
    "createSeries(sonelah2009, statesfull, txtfile2009, 2,\"Number of speakers1\", skiprows=[0,1,2,3])\n",
    "\n",
    "#Creating Dataframe\n",
    "df2009=pd.DataFrame({\"States\": states,\"EOS\":eos2009,\"SONELAHs\":sonelah2009})"
   ]
  },
  {
   "cell_type": "markdown",
   "metadata": {},
   "source": [
    "## State-Wide Analysis\n",
    "\n",
    "We will begin by plotting PMFs and creating tables to try to answer \"Has cultural diversity, measured through linguistic diversity, increased significantly in the past few years? How is cultural diversity, through linguistic diversity, spread out throughout the U.S.? \" on a statewide level."
   ]
  },
  {
   "cell_type": "markdown",
   "metadata": {},
   "source": [
    "##### Functions\n",
    "First, we will create functions which will help us analyze and graph the data. "
   ]
  },
  {
   "cell_type": "code",
   "execution_count": 8,
   "metadata": {},
   "outputs": [],
   "source": [
    "def createPMFs(df):\n",
    "    \"\"\"\n",
    "    Takes the dataframe which contains the number of EOS and SONELAHs per census file. \n",
    "    Returns the same Dataframe with a column of PMFs of SONELAHs by state, sorted from \n",
    "    least to greatest.\n",
    "    \n",
    "    df - dataframe which contains the sorted number of EOS and SONELAHs per census file. ie: df2009\n",
    "    \"\"\"\n",
    "    sonelah=df[\"SONELAHs\"]\n",
    "    eos=df[\"EOS\"]\n",
    "    df[\"PMF\"] = sonelah/(sonelah+eos)\n",
    "    df=df.sort_values(by=\"PMF\") #sorts from least to greatest\n",
    "    \n",
    "    return df"
   ]
  },
  {
   "cell_type": "code",
   "execution_count": 71,
   "metadata": {},
   "outputs": [],
   "source": [
    "def plotPMFs(df, ax=None):\n",
    "    \"\"\"\n",
    "    Takes the dataframe which contains the number of EOS and SONELAHs per census file. \n",
    "    Returns two graphs with PMF of only English speakers and PMF of speakers of \n",
    "    other languages as normalized percentages of total population of those states. \n",
    "    \n",
    "    df - dataframe which contains the number of EOS and SONELAHs per census file. ie: df2009\n",
    "    \"\"\"\n",
    "    dfwithPMF = createPMFs(df) #Adding a PMF column\n",
    "    i =0 #begining a counter to help plot SONELAHs\n",
    "    if ax is None:\n",
    "        plt.figure(figsize=(20, 3)) \n",
    "    for state in dfwithPMF[\"PMF\"]:\n",
    "        ax.bar(i, state,  color='#B6D7A8')\n",
    "        plt.autoscale(enable=True)\n",
    "        plt.ylim([0.0,1.0])\n",
    "        plt.setp(ax, xticks=range(0,51), xticklabels=dfwithPMF[\"States\"])\n",
    "        plt.setp(ax.get_xticklabels(), rotation=45)\n",
    "        plt.tick_params(axis='both', which='major', labelsize=20)\n",
    "        #ax.set_xlabel(\"State\")\n",
    "        #ax.set_ylabel(\"Percentage of SONELAHs\")\n",
    "        i+=1\n",
    "    return ax"
   ]
  },
  {
   "cell_type": "code",
   "execution_count": 103,
   "metadata": {},
   "outputs": [],
   "source": [
    "def createTemporalTable(df2000, df2006, df2009):\n",
    "    \"\"\"\n",
    "    Takes in the dataframes which contain the number of EOS and SONELAHs per census period.\n",
    "    Returns a table that shows the top ten states with the highest percentage of SONELAHs.\n",
    "    \"\"\"\n",
    "    \n",
    "    df2000 = createPMFs(df2000) #Creates PMFs for each dataset and appends\n",
    "    df2000['Percentage'] = df2000['PMF'].multiply(100.*np.ones(len(df2000['PMF']))) #Turns the PMF into a percentage\n",
    "    sorteddf2000 = df2000.sort_values(by='Percentage',ascending=False) #Sorts data in order of greatest to least percentage\n",
    "    sorteddf2000.index = list(range(1,len(sorteddf2000.index)+1)) #creating index for rank\n",
    "    \n",
    "    df2006 = createPMFs(df2006) \n",
    "    df2006['Percentage'] = df2006['PMF'].multiply(100.*np.ones(len(df2006['PMF']))) \n",
    "    sorteddf2006 = df2006.sort_values(by='Percentage',ascending=False) \n",
    "    \n",
    "    df2009 = createPMFs(df2009) \n",
    "    df2009['Percentage'] = df2009['PMF'].multiply(100.*np.ones(len(df2009['PMF']))) \n",
    "    sorteddf2009 = df2009.sort_values(by='Percentage',ascending=False) \n",
    "    \n",
    "    df2000_styler = sorteddf2000.iloc[0:10,[2,4]].style.set_table_attributes(\"style='display:inline'\").set_caption('2000')\n",
    "    df2006_styler = sorteddf2006.iloc[0:10,[2,4]].style.set_table_attributes(\"style='display:inline'\").set_caption('2006').hide_index()\n",
    "    df2009_styler = sorteddf2009.iloc[0:10,[2,4]].style.set_table_attributes(\"style='display:inline'\").set_caption('2009').hide_index()\n",
    "    chart = HTML('<h1>Rank of SONELAHs by State</h1>')\n",
    "    display(chart)\n",
    "\n",
    "    display_html(df2000_styler._repr_html_()+df2006_styler._repr_html_()+df2009_styler._repr_html_(), raw=True)\n",
    "    "
   ]
  },
  {
   "cell_type": "code",
   "execution_count": 104,
   "metadata": {},
   "outputs": [
    {
     "data": {
      "text/html": [
       "<h1>Rank of SONELAHs by State</h1>"
      ],
      "text/plain": [
       "<IPython.core.display.HTML object>"
      ]
     },
     "metadata": {},
     "output_type": "display_data"
    },
    {
     "data": {
      "text/html": [
       "<style  type=\"text/css\" >\n",
       "</style><table id=\"T_f4541344_4598_11e9_933c_f85971c2d869\" style='display:inline'><caption>2000</caption><thead>    <tr>        <th class=\"blank level0\" ></th>        <th class=\"col_heading level0 col0\" >States</th>        <th class=\"col_heading level0 col1\" >Percentage</th>    </tr></thead><tbody>\n",
       "                <tr>\n",
       "                        <th id=\"T_f4541344_4598_11e9_933c_f85971c2d869level0_row0\" class=\"row_heading level0 row0\" >1</th>\n",
       "                        <td id=\"T_f4541344_4598_11e9_933c_f85971c2d869row0_col0\" class=\"data row0 col0\" >DE</td>\n",
       "                        <td id=\"T_f4541344_4598_11e9_933c_f85971c2d869row0_col1\" class=\"data row0 col1\" >59.6038</td>\n",
       "            </tr>\n",
       "            <tr>\n",
       "                        <th id=\"T_f4541344_4598_11e9_933c_f85971c2d869level0_row1\" class=\"row_heading level0 row1\" >2</th>\n",
       "                        <td id=\"T_f4541344_4598_11e9_933c_f85971c2d869row1_col0\" class=\"data row1 col0\" >CA</td>\n",
       "                        <td id=\"T_f4541344_4598_11e9_933c_f85971c2d869row1_col1\" class=\"data row1 col1\" >39.4735</td>\n",
       "            </tr>\n",
       "            <tr>\n",
       "                        <th id=\"T_f4541344_4598_11e9_933c_f85971c2d869level0_row2\" class=\"row_heading level0 row2\" >3</th>\n",
       "                        <td id=\"T_f4541344_4598_11e9_933c_f85971c2d869row2_col0\" class=\"data row2 col0\" >NY</td>\n",
       "                        <td id=\"T_f4541344_4598_11e9_933c_f85971c2d869row2_col1\" class=\"data row2 col1\" >36.4809</td>\n",
       "            </tr>\n",
       "            <tr>\n",
       "                        <th id=\"T_f4541344_4598_11e9_933c_f85971c2d869level0_row3\" class=\"row_heading level0 row3\" >4</th>\n",
       "                        <td id=\"T_f4541344_4598_11e9_933c_f85971c2d869row3_col0\" class=\"data row3 col0\" >UT</td>\n",
       "                        <td id=\"T_f4541344_4598_11e9_933c_f85971c2d869row3_col1\" class=\"data row3 col1\" >31.235</td>\n",
       "            </tr>\n",
       "            <tr>\n",
       "                        <th id=\"T_f4541344_4598_11e9_933c_f85971c2d869level0_row4\" class=\"row_heading level0 row4\" >5</th>\n",
       "                        <td id=\"T_f4541344_4598_11e9_933c_f85971c2d869row4_col0\" class=\"data row4 col0\" >NC</td>\n",
       "                        <td id=\"T_f4541344_4598_11e9_933c_f85971c2d869row4_col1\" class=\"data row4 col1\" >27.9591</td>\n",
       "            </tr>\n",
       "            <tr>\n",
       "                        <th id=\"T_f4541344_4598_11e9_933c_f85971c2d869level0_row5\" class=\"row_heading level0 row5\" >6</th>\n",
       "                        <td id=\"T_f4541344_4598_11e9_933c_f85971c2d869row5_col0\" class=\"data row5 col0\" >ID</td>\n",
       "                        <td id=\"T_f4541344_4598_11e9_933c_f85971c2d869row5_col1\" class=\"data row5 col1\" >26.6028</td>\n",
       "            </tr>\n",
       "            <tr>\n",
       "                        <th id=\"T_f4541344_4598_11e9_933c_f85971c2d869level0_row6\" class=\"row_heading level0 row6\" >7</th>\n",
       "                        <td id=\"T_f4541344_4598_11e9_933c_f85971c2d869row6_col0\" class=\"data row6 col0\" >AZ</td>\n",
       "                        <td id=\"T_f4541344_4598_11e9_933c_f85971c2d869row6_col1\" class=\"data row6 col1\" >25.8515</td>\n",
       "            </tr>\n",
       "            <tr>\n",
       "                        <th id=\"T_f4541344_4598_11e9_933c_f85971c2d869level0_row7\" class=\"row_heading level0 row7\" >8</th>\n",
       "                        <td id=\"T_f4541344_4598_11e9_933c_f85971c2d869row7_col0\" class=\"data row7 col0\" >NM</td>\n",
       "                        <td id=\"T_f4541344_4598_11e9_933c_f85971c2d869row7_col1\" class=\"data row7 col1\" >25.4727</td>\n",
       "            </tr>\n",
       "            <tr>\n",
       "                        <th id=\"T_f4541344_4598_11e9_933c_f85971c2d869level0_row8\" class=\"row_heading level0 row8\" >9</th>\n",
       "                        <td id=\"T_f4541344_4598_11e9_933c_f85971c2d869row8_col0\" class=\"data row8 col0\" >GA</td>\n",
       "                        <td id=\"T_f4541344_4598_11e9_933c_f85971c2d869row8_col1\" class=\"data row8 col1\" >23.088</td>\n",
       "            </tr>\n",
       "            <tr>\n",
       "                        <th id=\"T_f4541344_4598_11e9_933c_f85971c2d869level0_row9\" class=\"row_heading level0 row9\" >10</th>\n",
       "                        <td id=\"T_f4541344_4598_11e9_933c_f85971c2d869row9_col0\" class=\"data row9 col0\" >NH</td>\n",
       "                        <td id=\"T_f4541344_4598_11e9_933c_f85971c2d869row9_col1\" class=\"data row9 col1\" >23.0585</td>\n",
       "            </tr>\n",
       "    </tbody></table><style  type=\"text/css\" >\n",
       "</style><table id=\"T_f4541345_4598_11e9_933c_f85971c2d869\" style='display:inline'><caption>2006</caption><thead>    <tr>        <th class=\"col_heading level0 col0\" >States</th>        <th class=\"col_heading level0 col1\" >Percentage</th>    </tr></thead><tbody>\n",
       "                <tr>\n",
       "                                <td id=\"T_f4541345_4598_11e9_933c_f85971c2d869row0_col0\" class=\"data row0 col0\" >CA</td>\n",
       "                        <td id=\"T_f4541345_4598_11e9_933c_f85971c2d869row0_col1\" class=\"data row0 col1\" >42.35</td>\n",
       "            </tr>\n",
       "            <tr>\n",
       "                                <td id=\"T_f4541345_4598_11e9_933c_f85971c2d869row1_col0\" class=\"data row1 col0\" >NM</td>\n",
       "                        <td id=\"T_f4541345_4598_11e9_933c_f85971c2d869row1_col1\" class=\"data row1 col1\" >35.8435</td>\n",
       "            </tr>\n",
       "            <tr>\n",
       "                                <td id=\"T_f4541345_4598_11e9_933c_f85971c2d869row2_col0\" class=\"data row2 col0\" >TX</td>\n",
       "                        <td id=\"T_f4541345_4598_11e9_933c_f85971c2d869row2_col1\" class=\"data row2 col1\" >33.6948</td>\n",
       "            </tr>\n",
       "            <tr>\n",
       "                                <td id=\"T_f4541345_4598_11e9_933c_f85971c2d869row3_col0\" class=\"data row3 col0\" >NY</td>\n",
       "                        <td id=\"T_f4541345_4598_11e9_933c_f85971c2d869row3_col1\" class=\"data row3 col1\" >28.8556</td>\n",
       "            </tr>\n",
       "            <tr>\n",
       "                                <td id=\"T_f4541345_4598_11e9_933c_f85971c2d869row4_col0\" class=\"data row4 col0\" >AZ</td>\n",
       "                        <td id=\"T_f4541345_4598_11e9_933c_f85971c2d869row4_col1\" class=\"data row4 col1\" >27.8547</td>\n",
       "            </tr>\n",
       "            <tr>\n",
       "                                <td id=\"T_f4541345_4598_11e9_933c_f85971c2d869row5_col0\" class=\"data row5 col0\" >NJ</td>\n",
       "                        <td id=\"T_f4541345_4598_11e9_933c_f85971c2d869row5_col1\" class=\"data row5 col1\" >27.6368</td>\n",
       "            </tr>\n",
       "            <tr>\n",
       "                                <td id=\"T_f4541345_4598_11e9_933c_f85971c2d869row6_col0\" class=\"data row6 col0\" >NV</td>\n",
       "                        <td id=\"T_f4541345_4598_11e9_933c_f85971c2d869row6_col1\" class=\"data row6 col1\" >27.3154</td>\n",
       "            </tr>\n",
       "            <tr>\n",
       "                                <td id=\"T_f4541345_4598_11e9_933c_f85971c2d869row7_col0\" class=\"data row7 col0\" >FL</td>\n",
       "                        <td id=\"T_f4541345_4598_11e9_933c_f85971c2d869row7_col1\" class=\"data row7 col1\" >25.7681</td>\n",
       "            </tr>\n",
       "            <tr>\n",
       "                                <td id=\"T_f4541345_4598_11e9_933c_f85971c2d869row8_col0\" class=\"data row8 col0\" >HI</td>\n",
       "                        <td id=\"T_f4541345_4598_11e9_933c_f85971c2d869row8_col1\" class=\"data row8 col1\" >24.8403</td>\n",
       "            </tr>\n",
       "            <tr>\n",
       "                                <td id=\"T_f4541345_4598_11e9_933c_f85971c2d869row9_col0\" class=\"data row9 col0\" >IL</td>\n",
       "                        <td id=\"T_f4541345_4598_11e9_933c_f85971c2d869row9_col1\" class=\"data row9 col1\" >21.6818</td>\n",
       "            </tr>\n",
       "    </tbody></table><style  type=\"text/css\" >\n",
       "</style><table id=\"T_f4541346_4598_11e9_933c_f85971c2d869\" style='display:inline'><caption>2009</caption><thead>    <tr>        <th class=\"col_heading level0 col0\" >States</th>        <th class=\"col_heading level0 col1\" >Percentage</th>    </tr></thead><tbody>\n",
       "                <tr>\n",
       "                                <td id=\"T_f4541346_4598_11e9_933c_f85971c2d869row0_col0\" class=\"data row0 col0\" >CA</td>\n",
       "                        <td id=\"T_f4541346_4598_11e9_933c_f85971c2d869row0_col1\" class=\"data row0 col1\" >43.6897</td>\n",
       "            </tr>\n",
       "            <tr>\n",
       "                                <td id=\"T_f4541346_4598_11e9_933c_f85971c2d869row1_col0\" class=\"data row1 col0\" >NM</td>\n",
       "                        <td id=\"T_f4541346_4598_11e9_933c_f85971c2d869row1_col1\" class=\"data row1 col1\" >36.0928</td>\n",
       "            </tr>\n",
       "            <tr>\n",
       "                                <td id=\"T_f4541346_4598_11e9_933c_f85971c2d869row2_col0\" class=\"data row2 col0\" >TX</td>\n",
       "                        <td id=\"T_f4541346_4598_11e9_933c_f85971c2d869row2_col1\" class=\"data row2 col1\" >34.733</td>\n",
       "            </tr>\n",
       "            <tr>\n",
       "                                <td id=\"T_f4541346_4598_11e9_933c_f85971c2d869row3_col0\" class=\"data row3 col0\" >NJ</td>\n",
       "                        <td id=\"T_f4541346_4598_11e9_933c_f85971c2d869row3_col1\" class=\"data row3 col1\" >30.0156</td>\n",
       "            </tr>\n",
       "            <tr>\n",
       "                                <td id=\"T_f4541346_4598_11e9_933c_f85971c2d869row4_col0\" class=\"data row4 col0\" >NY</td>\n",
       "                        <td id=\"T_f4541346_4598_11e9_933c_f85971c2d869row4_col1\" class=\"data row4 col1\" >29.9471</td>\n",
       "            </tr>\n",
       "            <tr>\n",
       "                                <td id=\"T_f4541346_4598_11e9_933c_f85971c2d869row5_col0\" class=\"data row5 col0\" >NV</td>\n",
       "                        <td id=\"T_f4541346_4598_11e9_933c_f85971c2d869row5_col1\" class=\"data row5 col1\" >29.3493</td>\n",
       "            </tr>\n",
       "            <tr>\n",
       "                                <td id=\"T_f4541346_4598_11e9_933c_f85971c2d869row6_col0\" class=\"data row6 col0\" >FL</td>\n",
       "                        <td id=\"T_f4541346_4598_11e9_933c_f85971c2d869row6_col1\" class=\"data row6 col1\" >27.4484</td>\n",
       "            </tr>\n",
       "            <tr>\n",
       "                                <td id=\"T_f4541346_4598_11e9_933c_f85971c2d869row7_col0\" class=\"data row7 col0\" >AZ</td>\n",
       "                        <td id=\"T_f4541346_4598_11e9_933c_f85971c2d869row7_col1\" class=\"data row7 col1\" >26.7885</td>\n",
       "            </tr>\n",
       "            <tr>\n",
       "                                <td id=\"T_f4541346_4598_11e9_933c_f85971c2d869row8_col0\" class=\"data row8 col0\" >HI</td>\n",
       "                        <td id=\"T_f4541346_4598_11e9_933c_f85971c2d869row8_col1\" class=\"data row8 col1\" >25.3981</td>\n",
       "            </tr>\n",
       "            <tr>\n",
       "                                <td id=\"T_f4541346_4598_11e9_933c_f85971c2d869row9_col0\" class=\"data row9 col0\" >IL</td>\n",
       "                        <td id=\"T_f4541346_4598_11e9_933c_f85971c2d869row9_col1\" class=\"data row9 col1\" >22.3229</td>\n",
       "            </tr>\n",
       "    </tbody></table>"
      ]
     },
     "metadata": {},
     "output_type": "display_data"
    }
   ],
   "source": [
    "\n",
    "createTemporalTable(df2000, df2006, df2009)"
   ]
  },
  {
   "cell_type": "code",
   "execution_count": 73,
   "metadata": {},
   "outputs": [],
   "source": [
    "def returnStatesfromRatio(df, percent, sign):\n",
    "    \"\"\"\n",
    "    Takes in a pair of total EOS and SONELAHs, as well as desired ratio and comparison\n",
    "    Returns a table with the number of states which have a percentage of SONELAHs\n",
    "    which is less than or more than the percentage specified. \n",
    "\n",
    "    Percent - Give percent in range (0:1)\n",
    "    Sign - \"Less\" or \"More\"\n",
    "    \"\"\"\n",
    "    dfwithPMF = createPMFs(df) #Adding a PMF column\n",
    "\n",
    "    if sign == \"Less\":\n",
    "        result = dfwithPMF[dfwithPMF[\"PMF\"]  < percent]\n",
    "    if sign == \"More\":\n",
    "        result = dfwithPMF[dfwithPMF[\"PMF\"]  > percent]\n",
    "        \n",
    "    print(result[[\"States\", \"PMF\"]])\n"
   ]
  },
  {
   "cell_type": "markdown",
   "metadata": {},
   "source": [
    "##### Plotting and Creating Tables"
   ]
  },
  {
   "cell_type": "markdown",
   "metadata": {},
   "source": [
    "The first visualization that we are making is a table that shows the top ten states with the highest percentage of SONELAHs in the U.S., in the three time periods for which we have the data. We are creating this to show where the highest linguistic might be, and how that is changing over time."
   ]
  },
  {
   "cell_type": "markdown",
   "metadata": {},
   "source": [
    "We see that California always has the number of SONELAHs. We infer that this is because California is state that belonged to Mexico, is a coastal state and contains many large cities. California belonging to Mexico means that there possibly is a higher percentage of Spanish speakers. California being a coastal state that contains many large cities means that it has a lot of places that are practically for an immigrant to come to when immigrating. <br>\n",
    "We also see that a lot of states on this list fluctuate in their rank. For example, New Mexico is 9th in 2000, but 2nd in the 2006-2008 period and the 2009-20013 period."
   ]
  },
  {
   "cell_type": "markdown",
   "metadata": {},
   "source": [
    "In order to see the fluctations in rank of some of the states on our top ten chart, we will plot the PMFs of SONELAHs by state per year. "
   ]
  },
  {
   "cell_type": "code",
   "execution_count": 78,
   "metadata": {},
   "outputs": [
    {
     "data": {
      "image/png": "[encoded data removed]",
      "text/plain": [
       "<Figure size 1440x1080 with 2 Axes>"
      ]
     },
     "metadata": {
      "needs_background": "light"
     },
     "output_type": "display_data"
    }
   ],
   "source": [
    "\n",
    "fig, (ax1,ax2) = plt.subplots(2,1, figsize=(20,15), sharey=True)  # 1 row, 2 columns\n",
    "plotPMFs(df2006, ax=ax1)\n",
    "plotPMFs(df2009, ax=ax2)\n",
    "ax1.set_title('PMF of SONELAHs by State', fontsize=30)\n",
    "ax2.set_xlabel('State', fontsize=20)\n",
    "plt.setp(ax1.get_xticklabels(), rotation=45)\n",
    "ax1.tick_params(axis='both', which='major', labelsize=20)\n",
    "plt.tight_layout() "
   ]
  },
  {
   "cell_type": "markdown",
   "metadata": {},
   "source": [
    "** Resolve DC\n",
    "We see that throughout these three time periods, the shape of distribution and the magnitude of the percentages are relatively the same. We do see that the order of the distribution changes, however. California is first all years, but the other states shift position. New Jersey, for example, has a lower percentage of SONELAHs in the first time period, which increases in the second time period. In the last time period, New Jersey has the fourth highest percentage of SONELAHs.\n",
    "\n",
    "</p>\n",
    "\n",
    "From these graphs, we also see the distribution at the lower end of the spectrum."
   ]
  },
  {
   "cell_type": "markdown",
   "metadata": {},
   "source": [
    "## County-Wide Analysis\n",
    "\n",
    "From analyzing linguistic diversity at the state level, we wanted to explore states with very high and very low percentages of SONELAHs more closely. We did this to test whether states which have high percentages of SONELAHs have spread out or concentrated linguistic diversity. We also wanted to see if this same fluctation over time we saw in the state level applied to the county level. "
   ]
  },
  {
   "cell_type": "code",
   "execution_count": null,
   "metadata": {},
   "outputs": [],
   "source": []
  }
 ],
 "metadata": {
  "kernelspec": {
   "display_name": "Python 3",
   "language": "python",
   "name": "python3"
  },
  "language_info": {
   "codemirror_mode": {
    "name": "ipython",
    "version": 3
   },
   "file_extension": ".py",
   "mimetype": "text/x-python",
   "name": "python",
   "nbconvert_exporter": "python",
   "pygments_lexer": "ipython3",
   "version": "3.5.2"
  }
 },
 "nbformat": 4,
 "nbformat_minor": 2
}
