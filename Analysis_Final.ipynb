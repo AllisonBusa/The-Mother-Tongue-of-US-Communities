{
 "cells": [
  {
   "cell_type": "markdown",
   "metadata": {},
   "source": [
    "# Analyzing Cultural Diversity through Census Data of Language Spoken at Home\n",
    "\n",
    "By Jordan Crawford-O'Banner and Alli Busa"
   ]
  },
  {
   "cell_type": "markdown",
   "metadata": {},
   "source": [
    "In the news, we've heard that diversity has increased in the United States. While the Census has praised the U.S. for becoming overall more racial and ethnically diverse, FOX newscaster Tucker Carlson has claimed that the rise of immigrants in the U.S. is not happening in \"politicians' neighborhoods\". (See Project Proposal)\n",
    "\n",
    "We wanted to take these two clashing statements and put them both to the test. Has cultural diversity, measured through linguistic diversity, increased significantly in the past few years? How is cultural diversity, through linguistic diversity, spread out throughout the U.S.? Are regions with high ratios of non-English speakers actually linguistically diverse or homogenuously consisting of a non-English speaking community? "
   ]
  },
  {
   "cell_type": "markdown",
   "metadata": {},
   "source": [
    "## Importing Necessary Packages and Setting Up Data Imports"
   ]
  },
  {
   "cell_type": "code",
   "execution_count": 1,
   "metadata": {
    "collapsed": true
   },
   "outputs": [],
   "source": [
    "%matplotlib inline\n",
    "\n",
    "import pandas as pd\n",
    "import numpy as np\n",
    "\n",
    "import matplotlib.pyplot as plt\n",
    "import seaborn as sns\n",
    "sns.set(style='white')\n",
    "\n",
    "from thinkstats2 import Pmf, Cdf\n",
    "\n",
    "import thinkstats2\n",
    "import thinkplot"
   ]
  },
  {
   "cell_type": "code",
   "execution_count": 2,
   "metadata": {
    "collapsed": true
   },
   "outputs": [],
   "source": [
    "#Creating lists of strings to make iterating through excel sheets easier\n",
    "\n",
    "#State abbreviations\n",
    "#Taken from https://gist.github.com/JeffPaine/3083347\n",
    "states = [\"AL\", \"AK\", \"AZ\", \"AR\", \"CA\", \"CO\", \"CT\", \"DC\", \"DE\", \"FL\", \"GA\", \n",
    "          \"HI\", \"ID\", \"IL\", \"IN\", \"IA\", \"KS\", \"KY\", \"LA\", \"ME\", \"MD\", \n",
    "          \"MA\", \"MI\", \"MN\", \"MS\", \"MO\", \"MT\", \"NE\", \"NV\", \"NH\", \"NJ\", \n",
    "          \"NM\", \"NY\", \"NC\", \"ND\", \"OH\", \"OK\", \"OR\", \"PA\", \"RI\", \"SC\", \n",
    "\"SD\", \"TN\", \"TX\", \"UT\", \"VT\", \"VA\", \"WA\", \"WV\", \"WI\", \"WY\", \"US\"]\n",
    "\n",
    "#State names\n",
    "#Taken from https://gist.github.com/tleen/6299431\n",
    "statesfull=['Alabama','Alaska','Arizona','Arkansas','California','Colorado','Connecticut',\n",
    "            'District of Columbia','Delaware','Florida','Georgia',\n",
    "            'Hawaii','Idaho','Illinois','Indiana','Iowa','Kansas','Kentucky','Louisiana','Maine',\n",
    "            'Maryland','Massachusetts','Michigan','Minnesota','Mississippi','Missouri','Montana','Nebraska',\n",
    "            'Nevada','New Hampshire','New Jersey','New Mexico','New York','North Carolina','North Dakota',\n",
    "            'Ohio','Oklahoma','Oregon','Pennsylvania',\n",
    "            'Rhode Island','South Carolina','South Dakota','Tennessee','Texas','Utah','Vermont',\n",
    "            'Virginia','Washington','West Virginia','Wisconsin','Wyoming','Puerto Rico']"
   ]
  },
  {
   "cell_type": "code",
   "execution_count": 3,
   "metadata": {
    "collapsed": true
   },
   "outputs": [],
   "source": [
    "def createSeries(emptySeries, arrayNames, textfileName, index, Column, skiprows=[0,1,2]):\n",
    "    \"\"\"\n",
    "    Makes a Series with specific language information from excel file. \n",
    "    It is used for organizing data on total English speakers and total non-English speakers.\n",
    "    \n",
    "    It takes in the name of an empty series, into which the data goes\n",
    "                arrayNames - this will be either states or statesfull, depending on how Excel sheets are organized\n",
    "                textfileName - the datafile\n",
    "                index - either 0 for total English speakers or 1 for total non-English speakers\n",
    "                Column - depending on the year, the column which contains the number of speakers is either given as \"Number of speakers\" or \"Number of speakers1\"\n",
    "                skiprows - the number of rows before the data begins changes based on Excel file. For the 2006-2008 data, it is [0,1,2], for the 2009-2013 data, it is [0,1,2,3]\n",
    "                \n",
    "    \"\"\"\n",
    "    i=0\n",
    "    for area in arrayNames:\n",
    "\n",
    "        df = pd.read_excel(textfileName, area, skiprows=skiprows).dropna()\n",
    "\n",
    "        #dictionary[area] = df.loc[dictionaryindex1:dictionaryindex1,Column]\n",
    "        emptySeries.set_value(i,df.loc[index, Column])\n",
    "        i+=1\n"
   ]
  },
  {
   "cell_type": "code",
   "execution_count": null,
   "metadata": {
    "collapsed": true
   },
   "outputs": [],
   "source": []
  },
  {
   "cell_type": "code",
   "execution_count": 5,
   "metadata": {},
   "outputs": [
    {
     "name": "stderr",
     "output_type": "stream",
     "text": [
      "/home/alli/.local/lib/python3.5/site-packages/ipykernel_launcher.py:20: FutureWarning: set_value is deprecated and will be removed in a future release. Please use .at[] or .iat[] accessors instead\n"
     ]
    }
   ],
   "source": [
    "#English and Non-English Speakers for 2006, Creating dictionary and arrays\n",
    "\n",
    "#totallanguage_dict_06 = dict.fromkeys(states)\n",
    "english2006=pd.Series()\n",
    "other2006=pd.Series()\n",
    "txtfile2006 = \"/home/alli/The-Mother-Tongue-of-US-Communities/raw_data/DetailedLanguageSpoken_State_20062008.xls\"\n",
    "\n",
    "createSeries(english2006, states, txtfile2006, 1,\"Number of speakers\", skiprows=[0,1,2])\n",
    "    \n",
    "createSeries(other2006, states, txtfile2006, 2,\"Number of speakers\", skiprows=[0,1,2])"
   ]
  },
  {
   "cell_type": "code",
   "execution_count": 6,
   "metadata": {},
   "outputs": [
    {
     "name": "stderr",
     "output_type": "stream",
     "text": [
      "/home/alli/.local/lib/python3.5/site-packages/ipykernel_launcher.py:20: FutureWarning: set_value is deprecated and will be removed in a future release. Please use .at[] or .iat[] accessors instead\n"
     ]
    }
   ],
   "source": [
    "#English and Non-English Speakers for 2009, Creating dictionary and arrays\n",
    "\n",
    "#totallanguage_dict_09 = dict.fromkeys(statesfull)\n",
    "english2009=pd.Series()\n",
    "other2009=pd.Series()\n",
    "txtfile2009 =  \"/home/alli/The-Mother-Tongue-of-US-Communities/raw_data/LanguageSpokenatHome_State_2009-2013.xls\"\n",
    "\n",
    "#things that are different about this file : skiprows is [0,1,2,3], column is \"NumberofSpeakers1\" and states is statesfull\n",
    "createSeries(english2009, statesfull, txtfile2009, 1,\"Number of speakers1\", skiprows=[0,1,2,3])\n",
    "    \n",
    "createSeries(other2009, statesfull, txtfile2009, 2, \"Number of speakers1\", skiprows=[0,1,2,3])"
   ]
  },
  {
   "cell_type": "markdown",
   "metadata": {},
   "source": [
    "## Initial Analysis - Probability Mass Functions (PMFs) \n",
    "We will begin by plotting PMFs to try to answer \"Has cultural diversity, measured through linguistic diversity, increased significantly in the past few years? How is cultural diversity, through linguistic diversity, spread out throughout the U.S.? \""
   ]
  },
  {
   "cell_type": "code",
   "execution_count": 7,
   "metadata": {
    "collapsed": true
   },
   "outputs": [],
   "source": [
    "def plotPMFs(english_speakers, other_speakers):\n",
    "    \"\"\"\n",
    "    Takes the number of only English speakers and number of speakers of other languages, per census file. \n",
    "    Returns two graphs with PMF of only English speakers and PMF of speakers of \n",
    "    other languages as normalized percentages of total population of those states. \n",
    "    \"\"\"\n",
    "    english_speakers_normalized = english_speakers/(english_speakers+other_speakers)\n",
    "    other_speakers_normalized = other_speakers/(english_speakers+other_speakers)\n",
    "\n",
    "    plt.figure(figsize=(20, 3))\n",
    "    for i in range(0,50): \n",
    "        plt.bar(i, english_speakers_normalized[i])\n",
    "        plt.autoscale(enable=True)\n",
    "        plt.xticks(range(0,50), states[0:50])\n",
    "        plt.title(\"PMF of MonoLingual English Speakers\")\n",
    "        plt.xlabel(\"State\")\n",
    "        plt.ylabel(\"Normalized Probability of MonoLingual English Speakers\")\n",
    "\n",
    "    plt.figure(figsize=(20, 3))\n",
    "    for i in range(0,50):\n",
    "        plt.bar(i, other_speakers_normalized[i])\n",
    "        plt.autoscale(enable=True)\n",
    "        plt.ylim([0.0,1.0])\n",
    "        plt.xticks(range(0,50), states[0:50])\n",
    "        plt.title(\"PMF of Speakers of Non-English Languages\")\n",
    "        plt.xlabel(\"State\")\n",
    "        plt.ylabel(\"Normalized Probability of Speakers of Non-English Languages\")"
   ]
  },
  {
   "cell_type": "code",
   "execution_count": 8,
   "metadata": {
    "collapsed": true
   },
   "outputs": [],
   "source": [
    "def plotLineGraph(otherspeakers2000, otherspeakers2006, otherspeakers2009, state):\n",
    "    \"\"\"\n",
    "    Takes the information about non-English speakers in the 2000, 2006-2008 and 2009-2013 periods as well\n",
    "    as which state you want to analyze.\n",
    "    Returns a line graph which displays number of total speakers as a function of time\n",
    "    Also returns a string of the state name, so that it is easier to plot the legend \n",
    "    \"\"\"\n",
    "    \n",
    "    indexstate = states.index(state) #finds the index of the state, in order to input into the series\n",
    "    years = [2000,2006,2009]  #the initial years of the census data which we have \n",
    "    state_num = [otherspeakers2000[indexstate],otherspeakers2006[indexstate], otherspeakers2009[indexstate]] # the output\n",
    "    plt.plot(years, [x / 1000 for x in state_num], '-o', label = str(state)) #dividing by 1000 in order to make numbers smaller\n",
    "    plt.title(\"Number of Speakers of Non-English Languages in the 2000-2009 Time Frame\")\n",
    "    plt.xlabel(\"Year\")\n",
    "    plt.ylabel(\"non-English Speakers (thousands)\")\n",
    "    return str(state)"
   ]
  },
  {
   "cell_type": "code",
   "execution_count": 10,
   "metadata": {
    "collapsed": true
   },
   "outputs": [],
   "source": [
    "def returnStatesfromRatio(english, other, percent, sign):\n",
    "    \"\"\"\n",
    "    Takes in a pair of total non-English speakers and total monolingual English speakers, as well as desired ratio and comparison\n",
    "    Returns number of states which have a percentage of non-English speakers\n",
    "    which is less than or more than the percentage specified. \n",
    "\n",
    "    Percent - Give percent in range (0:1)\n",
    "    Sign - \"Less\" or \"More\"\n",
    "    \"\"\"\n",
    "    othernorm = (other[0:50]/(english[0:50]+other[0:50])) #creating a normalized ratio\n",
    "    if sign == \"Less\":\n",
    "        result = othernorm2006 < percent\n",
    "    if sign == \"More\":\n",
    "        result = othernorm2006 > percent\n",
    "        \n",
    "    statesofinterest=[i for i, x in enumerate(result) if x]\n",
    "    for i in statesofinterest:\n",
    "        print(states[i])"
   ]
  },
  {
   "cell_type": "code",
   "execution_count": null,
   "metadata": {
    "collapsed": true
   },
   "outputs": [],
   "source": [
    "plotPMFs(english2000, other2000)"
   ]
  },
  {
   "cell_type": "code",
   "execution_count": null,
   "metadata": {
    "collapsed": true
   },
   "outputs": [],
   "source": [
    "plotPMFs(english2006, other2006 )"
   ]
  },
  {
   "cell_type": "markdown",
   "metadata": {},
   "source": [
    "These graphs show on top the portion of the population for each state that only speaks English, and on the bottom the portion of the population for each state that speaks a language other than English. \n",
    "\n",
    "We see that a large portion of the population of all U.S. states only speak English. Also, California prominently has a large percent of speakers of non-English languages."
   ]
  },
  {
   "cell_type": "markdown",
   "metadata": {},
   "source": [
    "In this year, which states are have most speakers of non-English languages and which have the least?"
   ]
  },
  {
   "cell_type": "code",
   "execution_count": null,
   "metadata": {
    "collapsed": true
   },
   "outputs": [],
   "source": [
    "returnStatesfromRatio(english2006, other2006, 0.2, \"More\")"
   ]
  },
  {
   "cell_type": "code",
   "execution_count": null,
   "metadata": {
    "collapsed": true
   },
   "outputs": [],
   "source": [
    "returnStatesfromRatio(english2006, other2006, 0.1, \"Less\")"
   ]
  },
  {
   "cell_type": "code",
   "execution_count": null,
   "metadata": {
    "collapsed": true
   },
   "outputs": [],
   "source": [
    "#Returning Which State Had the Least Amount of Non-English Speakers and How many\n",
    "othernorm2006 = (other2006[0:50]/(english2006[0:50]+other2006[0:50])) \n",
    "print(str(states[othernorm2006.idxmin()])) #State in 2006 with smallest number of non-English speakers\n",
    "print(str(othernorm2006.min()))"
   ]
  },
  {
   "cell_type": "code",
   "execution_count": null,
   "metadata": {
    "collapsed": true
   },
   "outputs": [],
   "source": [
    "plotPMFs(english2009, other2009)"
   ]
  },
  {
   "cell_type": "markdown",
   "metadata": {},
   "source": [
    "## Amount of Non-English Speakers per County in Potentially Interesting States\n",
    "\n",
    "Next we will look at counties of states which had some of the most extreme ratios of speakers of only english to speakers of other languages. We will do this to answer : \"How is cultural diversity, through linguistic diversity, spread out throughout the U.S.? \" on a small scale."
   ]
  },
  {
   "cell_type": "code",
   "execution_count": 12,
   "metadata": {
    "collapsed": true
   },
   "outputs": [],
   "source": [
    "def createCountySeries(countyList, countyNumbers, state ):\n",
    "    \"\"\"\n",
    "    Takes in two empty series and a state.\n",
    "    countyList - a list which will be populated with names of counties in state\n",
    "    countyNumbers - a list containing total speakers of other languages per county\n",
    "    state - state you wish to look at, given as ex: [\"AZ\"]\n",
    "    index - the row number in which t\n",
    "    \"\"\"\n",
    "    textfileName = \"/home/alli/The-Mother-Tongue-of-US-Communities/raw_data/LanguageSpokenatHome_County_2009-2013.xls\"\n",
    "    i=0\n",
    "    x1 = pd.ExcelFile(textfileName)\n",
    "    sheetnames = x1.sheet_names\n",
    "    for sheet in sheetnames:\n",
    "        if any(x in sheet for x in state):\n",
    "            df = pd.read_excel(textfileName,sheet, skiprows=[0,1,2,3]).dropna()\n",
    "            #dictionary[area] = df.loc[1:2,\"Number of speakers\"]\n",
    "            countyList.set_value(i,df[\"Number of speakers1\"][1])\n",
    "            countyNumbers.set_value(i, sheet)\n",
    "            i+=1"
   ]
  },
  {
   "cell_type": "code",
   "execution_count": 13,
   "metadata": {
    "collapsed": true
   },
   "outputs": [],
   "source": [
    "def plotCounty(statename, countylist, numberpercounty):\n",
    "    \"\"\"\n",
    "    Takes in the name of a state, and the two series which createCountySeries filled\n",
    "    Plots the number of speakers of other languages by county\n",
    "    \"\"\"\n",
    "    # Determines size of plot\n",
    "    while True:\n",
    "        if len(numberpercounty)>5:\n",
    "            plt.figure(figsize=(20, 3))\n",
    "            break\n",
    "        else:\n",
    "            plt.figure()\n",
    "            break\n",
    "        \n",
    "    for i in range(0,len(countylist)): \n",
    "        plt.bar(i, numberpercounty[i])\n",
    "        plt.autoscale(enable=True)\n",
    "        plt.xticks(range(0,len(countylist)), countylist[0:len(countylist)],  rotation=70)\n",
    "        plt.title(\"Other Language Speakers in \"+str(statename)+\" by County\")\n",
    "        plt.xlabel(\"County\")\n",
    "        plt.ylabel(\"Number of Other Language Speakers\")"
   ]
  },
  {
   "cell_type": "markdown",
   "metadata": {},
   "source": [
    "### California Counties\n",
    "California contained the greatest percentage of non-English speakers. Are all counties equally contributing to this statistic?\n",
    "CA, WA, PA, NY, MI"
   ]
  },
  {
   "cell_type": "code",
   "execution_count": null,
   "metadata": {
    "collapsed": true
   },
   "outputs": [],
   "source": [
    "#creating series and calculating non-English speakers per county\n",
    "CAcounty = pd.Series()\n",
    "otherspeakers_CAcounties = pd.Series()\n",
    "createCountySeries(otherspeakers_CAcounties, CAcounty,[\"CA\"])"
   ]
  },
  {
   "cell_type": "code",
   "execution_count": null,
   "metadata": {
    "collapsed": true
   },
   "outputs": [],
   "source": [
    "plotCounty(\"California\", CAcounty, otherspeakers_CAcounties)"
   ]
  },
  {
   "cell_type": "code",
   "execution_count": null,
   "metadata": {
    "collapsed": true
   },
   "outputs": [],
   "source": [
    "It looks like the answer is no. Los Angeles has substantially more non-English speakers than any other California county."
   ]
  },
  {
   "cell_type": "markdown",
   "metadata": {},
   "source": [
    "### New York Counties\n",
    "\n",
    "New York is known for being the first place to which immigrants come. Let's see how many more immigrants New York, New York has than upstate New York counties."
   ]
  },
  {
   "cell_type": "code",
   "execution_count": null,
   "metadata": {
    "collapsed": true
   },
   "outputs": [],
   "source": [
    "#creating series and calculating non-English speakers per county\n",
    "NYcounty = pd.Series()\n",
    "otherspeakers_NYcounties = pd.Series()\n",
    "createCountySeries(otherspeakers_NYcounties, NYcounty,[\"NY\"])"
   ]
  },
  {
   "cell_type": "code",
   "execution_count": null,
   "metadata": {
    "collapsed": true
   },
   "outputs": [],
   "source": [
    "plotCounty(\"New York\", NYcounty, otherspeakers_NYcounties)"
   ]
  },
  {
   "cell_type": "markdown",
   "metadata": {},
   "source": [
    "We were not expecting the number of non-English speakers in New York counties to be spread out to this extent. However, New York New York, Kings County, Queens county and Bronx county are all adjacent to each other, and all part of the major urban sprawl of the city of New York. If we group them together, we should find that New York City is contributing greatly to the number of non-English speakers in New York State."
   ]
  },
  {
   "cell_type": "markdown",
   "metadata": {},
   "source": [
    "### Washington Counties"
   ]
  },
  {
   "cell_type": "code",
   "execution_count": null,
   "metadata": {
    "collapsed": true
   },
   "outputs": [],
   "source": [
    "#creating series and calculating non-English speakers per county\n",
    "WAcounty = pd.Series()\n",
    "otherspeakers_WAcounties = pd.Series()\n",
    "createCountySeries(otherspeakers_WAcounties, WAcounty,[\"WA\"])"
   ]
  },
  {
   "cell_type": "code",
   "execution_count": null,
   "metadata": {
    "collapsed": true
   },
   "outputs": [],
   "source": [
    "plotCounty(\"Washington\", WAcounty, otherspeakers_WAcounties)"
   ]
  },
  {
   "cell_type": "markdown",
   "metadata": {},
   "source": [
    "### Pennsylvania Counties"
   ]
  },
  {
   "cell_type": "code",
   "execution_count": null,
   "metadata": {
    "collapsed": true
   },
   "outputs": [],
   "source": [
    "#creating series and calculating non-English speakers per county\n",
    "PAcounty = pd.Series()\n",
    "otherspeakers_PAcounties = pd.Series()\n",
    "createCountySeries(otherspeakers_PAcounties, PAcounty,[\"PA\"])"
   ]
  },
  {
   "cell_type": "code",
   "execution_count": null,
   "metadata": {
    "collapsed": true
   },
   "outputs": [],
   "source": [
    "plotCounty(\"Pennsylvania\", PAcounty, otherspeakers_PAcounties)"
   ]
  },
  {
   "cell_type": "markdown",
   "metadata": {},
   "source": [
    "### Michigan Counties"
   ]
  },
  {
   "cell_type": "code",
   "execution_count": null,
   "metadata": {
    "collapsed": true
   },
   "outputs": [],
   "source": [
    "#creating series and calculating non-English speakers per county\n",
    "MIcounty = pd.Series()\n",
    "otherspeakers_MIcounties = pd.Series()\n",
    "createCountySeries(otherspeakers_MIcounties, MIcounty,[\"MI\"])"
   ]
  },
  {
   "cell_type": "code",
   "execution_count": null,
   "metadata": {
    "collapsed": true
   },
   "outputs": [],
   "source": [
    "plotCounty(\"Michigan\", MIcounty, otherspeakers_MIcounties)"
   ]
  },
  {
   "cell_type": "markdown",
   "metadata": {},
   "source": [
    "## Analyzing Ratios of Different Languages Spoken in Them\n",
    "\n",
    "How diverse are the most linguistically diverse communities actually? We stipulate that if all the different languages spoken in a community are, for example, European languages, that changes the perception of how diverse the community is. In this way, we hope to answer the question \"Are regions with high ratios of non-English speakers actually linguistically diverse or homogenuously consisting of a non-English speaking community? \""
   ]
  },
  {
   "cell_type": "code",
   "execution_count": null,
   "metadata": {
    "collapsed": true
   },
   "outputs": [],
   "source": [
    "def createListofLanguageGroups(textfileName, arrayNames, column1, skiprows):\n",
    "    \"\"\"\n",
    "    Takes in census year and returns dataframe which contains language groups and corresponding number of respondents\n",
    "    who speak a language in the language group\n",
    "    \n",
    "    textfileName - name of file\n",
    "    arrayNames - either state or statesfull, depending on Excel file's sheet names\n",
    "    column1 - because on 2006 the column is \"Number of speakers\" but on 2009, it's \"Number of speakers1\"\n",
    "    skiprows - also depending on dataframe, we either skip [0,1,2] rows or [0,1,2,3] rows\n",
    "    \"\"\"\n",
    "    #Accounting for different formatting of language names in different excel files\n",
    "    if textfileName == txtfile2009:\n",
    "         languagegroupstolookfor = [\"SPANISH AND SPANISH CREOLE\", \".Italian\",\"..German\", \".Scandinavian languages\",\n",
    "                              \"ASIAN AND PACIFIC ISLAND LANGUAGES\",\".Navajo\", \".Other Native North American languages\"]\n",
    "    elif textfileName == txtfile2006:\n",
    "        languagegroupstolookfor = [\"\\nSPANISH AND SPANISH CREOLE\", \".Italian\",\".German\", \".Scandinavian languages\",\n",
    "                                  \"\\nASIAN AND PACIFIC ISLAND LANGUAGES\",\".Navajo\", \".Other Native North American languages\"]\n",
    "    \n",
    "    #Creating an emtpy dataframe \n",
    "    languagesperState = pd.DataFrame(np.nan, index=np.array(arrayNames), columns=np.array(languagegroupstolookfor)) #row index will be language and column index will be column index\n",
    "\n",
    "    #Looping through the sheets and if the language is there, add it\n",
    "    for area in arrayNames:\n",
    "\n",
    "        df = pd.read_excel(textfileName, area, skiprows=skiprows).dropna()\n",
    "        \n",
    "        for language in languagegroupstolookfor:\n",
    "\n",
    "            try:\n",
    "                num = df[df['Unnamed: 0']==language][column1].item() #select row from langauges column which has certain language\n",
    "            except:\n",
    "                num = 0\n",
    "            languagesperState.loc[area, language] = num\n",
    "    \n",
    "    #Putting Some Languages into Categories and Deleting the Individual Ones\n",
    "    languagesperState['German, Scandinavian, Italian'] = languagesperState.iloc[:, 1:4].sum(axis=1)\n",
    "    languagesperState['Native North American'] = languagesperState.iloc[:, 5:7].sum(axis=1)\n",
    "    languagesperState.drop([\".Italian\",\"..German\", \".Scandinavian languages\",\".Navajo\", \".Other Native North American languages\"], axis = 1, inplace = True) \n",
    " \n",
    "    return languagesperState"
   ]
  },
  {
   "cell_type": "code",
   "execution_count": null,
   "metadata": {
    "collapsed": true
   },
   "outputs": [],
   "source": [
    "def createCountiesList(statename):\n",
    "    \"\"\"\n",
    "    Creates a list of counties from the 2009-2013 counties list, when you input a state you want to analyze\n",
    "    \"\"\"\n",
    "    textfileName =  \"/home/alli/The-Mother-Tongue-of-US-Communities/raw_data/LanguageSpokenatHome_County_2009-2013.xls\"\n",
    "    countyNames = []\n",
    "    x1 = pd.ExcelFile(textfileName)\n",
    "    sheetnames = x1.sheet_names                        \n",
    "    for sheet in sheetnames:\n",
    "        if any(x in sheet for x in statename):\n",
    "            \n",
    "            countyNames.append(str(sheet))\n",
    "\n",
    "    return countyNames"
   ]
  },
  {
   "cell_type": "code",
   "execution_count": null,
   "metadata": {
    "collapsed": true
   },
   "outputs": [],
   "source": [
    "def createListofLanguageGroupsCounties(statename):\n",
    "    \"\"\"\n",
    "    Takes in census year and returns dataframe which contains language groups and corresponding number of respondents\n",
    "    who speak a language in the language group\n",
    "    \n",
    "    \"\"\"\n",
    "    #Reading Excel spreadsheet\n",
    "    textfileName =  \"/home/alli/The-Mother-Tongue-of-US-Communities/raw_data/LanguageSpokenatHome_County_2009-2013.xls\"\n",
    "    #Initializing languages which we are looking for\n",
    "    languagegroupstolookfor = [\"SPANISH AND SPANISH CREOLE\", \".Italian\",\"..German\", \".Scandinavian languages\",\n",
    "                                 \"ASIAN AND PACIFIC ISLAND LANGUAGES\",\".Navajo\", \".Other Native North American languages\"]\n",
    "    #Initializing counties list \n",
    "    countyNames = createCountiesList(statename)\n",
    "    #Create emtpy dataframe\n",
    "    languagesperState = pd.DataFrame(np.nan, index= np.array(countyNames), columns=np.array(languagegroupstolookfor)) #row index will be language and column index will be column index\n",
    "    #Looping through the sheets and if the language and county are there, add it\n",
    "    x1 = pd.ExcelFile(textfileName)\n",
    "    sheetnames = x1.sheet_names                        \n",
    "    for sheet in sheetnames:\n",
    "\n",
    "        if sheet in countyNames:\n",
    "\n",
    "            df = pd.read_excel(textfileName, sheet, skiprows=[0,1,2,3]).dropna()\n",
    "            \n",
    "            for language in languagegroupstolookfor:\n",
    "                \n",
    "                try:\n",
    "                    num = df[df['Unnamed: 0']==language][\"Number of speakers1\"].item() #select row from langauges column which has certain language\n",
    "                    \n",
    "                except:\n",
    "                    num = 0\n",
    "                \n",
    "                languagesperState.loc[sheet, language] = num\n",
    "                \n",
    "     #Putting Some Languages into Categories and Deleting the Individual Ones\n",
    "    languagesperState['German, Scandinavian, Italian'] = languagesperState.iloc[:, 1:4].sum(axis=1)\n",
    "    languagesperState['Native North American'] = languagesperState.iloc[:, 5:7].sum(axis=1)\n",
    "    languagesperState.drop([\".Italian\",\"..German\", \".Scandinavian languages\",\".Navajo\", \".Other Native North American languages\"], axis = 1, inplace = True) \n",
    " \n",
    "\n",
    "    return languagesperState"
   ]
  }
 ],
 "metadata": {
  "kernelspec": {
   "display_name": "Python 3",
   "language": "python",
   "name": "python3"
  },
  "language_info": {
   "codemirror_mode": {
    "name": "ipython",
    "version": 3
   },
   "file_extension": ".py",
   "mimetype": "text/x-python",
   "name": "python",
   "nbconvert_exporter": "python",
   "pygments_lexer": "ipython3",
   "version": "3.6.3"
  }
 },
 "nbformat": 4,
 "nbformat_minor": 2
}
