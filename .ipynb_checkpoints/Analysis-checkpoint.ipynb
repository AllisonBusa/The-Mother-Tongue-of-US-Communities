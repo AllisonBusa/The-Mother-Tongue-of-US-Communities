{
 "cells": [
  {
   "cell_type": "markdown",
   "metadata": {},
   "source": [
    "## Importing Data and Necessary Packages"
   ]
  },
  {
   "cell_type": "code",
   "execution_count": 1,
   "metadata": {
    "collapsed": true
   },
   "outputs": [],
   "source": [
    "%matplotlib inline\n",
    "\n",
    "import pandas as pd\n",
    "import numpy as np\n",
    "\n",
    "import matplotlib.pyplot as plt\n",
    "import seaborn as sns\n",
    "sns.set(style='white')\n",
    "\n",
    "from thinkstats2 import Pmf, Cdf\n",
    "\n",
    "import thinkstats2\n",
    "import thinkplot"
   ]
  },
  {
   "cell_type": "code",
   "execution_count": 2,
   "metadata": {
    "collapsed": true
   },
   "outputs": [],
   "source": [
    "#Creating a python array of state abbreviations\n",
    "#Taken from https://gist.github.com/JeffPaine/3083347\n",
    "states = [\"US\",\"AL\", \"AK\", \"AZ\", \"AR\", \"CA\", \"CO\", \"CT\", \"DC\", \"DE\", \"FL\", \"GA\", \n",
    "          \"HI\", \"ID\", \"IL\", \"IN\", \"IA\", \"KS\", \"KY\", \"LA\", \"ME\", \"MD\", \n",
    "          \"MA\", \"MI\", \"MN\", \"MS\", \"MO\", \"MT\", \"NE\", \"NV\", \"NH\", \"NJ\", \n",
    "          \"NM\", \"NY\", \"NC\", \"ND\", \"OH\", \"OK\", \"OR\", \"PA\", \"RI\", \"SC\", \n",
    "\"SD\", \"TN\", \"TX\", \"UT\", \"VT\", \"VA\", \"WA\", \"WV\", \"WI\", \"WY\"]"
   ]
  },
  {
   "cell_type": "code",
   "execution_count": 3,
   "metadata": {},
   "outputs": [
    {
     "name": "stdout",
     "output_type": "stream",
     "text": [
      "{'US': None, 'AL': None, 'AK': None, 'AZ': None, 'AR': None, 'CA': None, 'CO': None, 'CT': None, 'DC': None, 'DE': None, 'FL': None, 'GA': None, 'HI': None, 'ID': None, 'IL': None, 'IN': None, 'IA': None, 'KS': None, 'KY': None, 'LA': None, 'ME': None, 'MD': None, 'MA': None, 'MI': None, 'MN': None, 'MS': None, 'MO': None, 'MT': None, 'NE': None, 'NV': None, 'NH': None, 'NJ': None, 'NM': None, 'NY': None, 'NC': None, 'ND': None, 'OH': None, 'OK': None, 'OR': None, 'PA': None, 'RI': None, 'SC': None, 'SD': None, 'TN': None, 'TX': None, 'UT': None, 'VT': None, 'VA': None, 'WA': None, 'WV': None, 'WI': None, 'WY': None}\n"
     ]
    }
   ],
   "source": [
    "#Create a dictionary object that has states as keys\n",
    "totallanguage_dict = dict.fromkeys(states)\n",
    "print(totallanguage_dict) "
   ]
  },
  {
   "cell_type": "code",
   "execution_count": 46,
   "metadata": {},
   "outputs": [],
   "source": [
    "english_speakers=pd.Series()\n",
    "other_speakers=pd.Series()\n",
    "i=0\n",
    "for state in states:\n",
    "    df = pd.read_excel(\"/home/jobanner/The-Mother-Tongue-of-US-Communities/raw_data/DetailedLanguageSpoken_State_20062008.xls\",state,skiprows=[0,1,2]).dropna()\n",
    "    totallanguage_dict[state] = df.loc[1:2,\"Number of speakers\"]\n",
    "    english_speakers.set_value(i,totallanguage_dict[state].iloc[0])\n",
    "    other_speakers.set_value(i,totallanguage_dict[state].iloc[1])\n",
    "    i+=1\n"
   ]
  },
  {
   "cell_type": "code",
   "execution_count": 105,
   "metadata": {},
   "outputs": [
    {
     "name": "stdout",
     "output_type": "stream",
     "text": [
      "0     225488799.0\n",
      "1       4139666.0\n",
      "2        533112.0\n",
      "3       4216116.0\n",
      "4       2470669.0\n",
      "5      19456202.0\n",
      "6       3733134.0\n",
      "7       2634649.0\n",
      "8        472111.0\n",
      "9        711083.0\n",
      "10     12658319.0\n",
      "11      7725470.0\n",
      "12       897745.0\n",
      "13      1238169.0\n",
      "14      9353214.0\n",
      "15      5461088.0\n",
      "16      2607134.0\n",
      "17      2323018.0\n",
      "18      3790556.0\n",
      "19      3704711.0\n",
      "20      1151282.0\n",
      "21      4465318.0\n",
      "22      4841697.0\n",
      "23      8576680.0\n",
      "24      4366556.0\n",
      "25      2610696.0\n",
      "26      5169463.0\n",
      "27       854966.0\n",
      "28      1492558.0\n",
      "29      1708944.0\n",
      "30      1137876.0\n",
      "31      5861865.0\n",
      "32      1166401.0\n",
      "33     12965788.0\n",
      "34      7596869.0\n",
      "35       565619.0\n",
      "36     10081548.0\n",
      "37      3069427.0\n",
      "38      3004509.0\n",
      "39     10593911.0\n",
      "40       790938.0\n",
      "41      3863249.0\n",
      "42       692576.0\n",
      "43      5407992.0\n",
      "44     14500388.0\n",
      "45      2069123.0\n",
      "46       556818.0\n",
      "47      6231862.0\n",
      "48      5027344.0\n",
      "49      1666936.0\n",
      "50      4817706.0\n",
      "51       455728.0\n",
      "dtype: float64\n",
      "0     280564877.0\n",
      "1       4320582.0\n",
      "2        630423.0\n",
      "3       5843921.0\n",
      "4       2633385.0\n",
      "5      33748857.0\n",
      "6       4495642.0\n",
      "7       3281254.0\n",
      "8        552746.0\n",
      "9        803548.0\n",
      "10     17052403.0\n",
      "11      8785436.0\n",
      "12      1194450.0\n",
      "13      1375973.0\n",
      "14     11942587.0\n",
      "15      5896315.0\n",
      "16      2787519.0\n",
      "17      2580615.0\n",
      "18      3955505.0\n",
      "19      4043172.0\n",
      "20      1244327.0\n",
      "21      5247846.0\n",
      "22      6087734.0\n",
      "23      9414626.0\n",
      "24      4830132.0\n",
      "25      2705306.0\n",
      "26      5480859.0\n",
      "27       896668.0\n",
      "28      1641193.0\n",
      "29      2351179.0\n",
      "30      1237068.0\n",
      "31      8100620.0\n",
      "32      1818055.0\n",
      "33     18224612.0\n",
      "34      8405944.0\n",
      "35       598518.0\n",
      "36     10734806.0\n",
      "37      3348376.0\n",
      "38      3498022.0\n",
      "39     11686497.0\n",
      "40       993514.0\n",
      "41      4107268.0\n",
      "42       739597.0\n",
      "43      5736382.0\n",
      "44     21869156.0\n",
      "45      2404658.0\n",
      "46       588245.0\n",
      "47      7183318.0\n",
      "48      6029673.0\n",
      "49      1705879.0\n",
      "50      5243435.0\n",
      "51       487031.0\n",
      "dtype: float64\n"
     ]
    }
   ],
   "source": [
    "print(english_speakers)\n",
    "print(english_speakers+other_speakers)"
   ]
  },
  {
   "cell_type": "markdown",
   "metadata": {
    "collapsed": true
   },
   "source": [
    "First we can compare how many people speak a different language than how many people only speak English."
   ]
  },
  {
   "cell_type": "code",
   "execution_count": 110,
   "metadata": {},
   "outputs": [
    {
     "data": {
      "image/png": "[encoded data removed]",
      "text/plain": [
       "<Figure size 1440x216 with 1 Axes>"
      ]
     },
     "metadata": {},
     "output_type": "display_data"
    },
    {
     "data": {
      "image/png": "[encoded data removed]",
      "text/plain": [
       "<Figure size 1440x216 with 1 Axes>"
      ]
     },
     "metadata": {},
     "output_type": "display_data"
    }
   ],
   "source": [
    "english_speakers_normalized = english_speakers/(english_speakers+other_speakers)\n",
    "other_speakers_normalized = other_speakers/(english_speakers+other_speakers)\n",
    "\n",
    "plt.figure(figsize=(20, 3))\n",
    "for i in range(1,51):\n",
    "    plt.bar(i, english_speakers_normalized[i])\n",
    "    plt.autoscale(enable=True)\n",
    "    plt.xticks(range(1,51), states[1:51])\n",
    "    \n",
    "plt.figure(figsize=(20, 3))\n",
    "for i in range(1,51):\n",
    "    plt.bar(i, other_speakers_normalized[i])\n",
    "    plt.autoscale(enable=True)\n",
    "    plt.ylim([0.0,1.0])\n",
    "    plt.xticks(range(1,51), states[1:51])"
   ]
  },
  {
   "cell_type": "code",
   "execution_count": 79,
   "metadata": {},
   "outputs": [
    {
     "data": {
      "image/png": "[encoded data removed]",
      "text/plain": [
       "<Figure size 864x432 with 1 Axes>"
      ]
     },
     "metadata": {},
     "output_type": "display_data"
    }
   ],
   "source": [
    "width=0.45\n",
    "thinkplot.PrePlot(2, cols=2)\n",
    "thinkplot.Hist(pmfeng, align='right', width=width)\n",
    "thinkplot.Hist(pmfnon, align='left', width=width)\n",
    "thinkplot.Config(xlabel='Pregnancy length(weeks)', ylabel='PMF')"
   ]
  },
  {
   "cell_type": "markdown",
   "metadata": {},
   "source": [
    "Things to try : \n",
    "-plotting this bar graph by urban area\n",
    "-plotting this bar graph for counties that look like they have extreme ratios( ie AL, CA) to see if ratios are consistent or varied inside these states"
   ]
  },
  {
   "cell_type": "markdown",
   "metadata": {},
   "source": [
    "Note : divide each number of speakers by total number of people in the state"
   ]
  },
  {
   "cell_type": "markdown",
   "metadata": {
    "collapsed": true
   },
   "source": [
    "However, how diverse is this actually? We stipulate that if all the different languages spoken in a community are European languages, that changes the perception of how diverse the community is. \n",
    "\n",
    "take the extremes and show the the different languages for those states (pmf) "
   ]
  },
  {
   "cell_type": "code",
   "execution_count": null,
   "metadata": {
    "collapsed": true
   },
   "outputs": [],
   "source": []
  }
 ],
 "metadata": {
  "kernelspec": {
   "display_name": "Python 3",
   "language": "python",
   "name": "python3"
  },
  "language_info": {
   "codemirror_mode": {
    "name": "ipython",
    "version": 3
   },
   "file_extension": ".py",
   "mimetype": "text/x-python",
   "name": "python",
   "nbconvert_exporter": "python",
   "pygments_lexer": "ipython3",
   "version": "3.6.3"
  }
 },
 "nbformat": 4,
 "nbformat_minor": 2
}
